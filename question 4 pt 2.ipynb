{
 "cells": [
  {
   "cell_type": "code",
   "execution_count": 99,
   "metadata": {},
   "outputs": [],
   "source": [
    "import pandas as pd\n",
    "import matplotlib.pyplot as plt\n",
    "import numpy as np\n",
    "import statsmodels.api as sm\n",
    "import math\n",
    "import seaborn as sns\n",
    "\n",
    "\n",
    "%matplotlib inline"
   ]
  },
  {
   "cell_type": "code",
   "execution_count": 100,
   "metadata": {},
   "outputs": [],
   "source": [
    "df_renters_data = pd.read_csv('Rent_vs_Own.csv')\n",
    "df_rental_value = pd.read_excel('rental_value_cleaned.xlsx')\n",
    "df_property_taxes = pd.read_csv('Property_Taxes.csv')\n",
    "\n"
   ]
  },
  {
   "cell_type": "code",
   "execution_count": 118,
   "metadata": {},
   "outputs": [],
   "source": [
    "import chart_studio\n",
    "import chart_studio.plotly as py\n",
    "import chart_studio.tools as tls"
   ]
  },
  {
   "cell_type": "code",
   "execution_count": 119,
   "metadata": {},
   "outputs": [],
   "source": [
    "username = 'jonmcg01'\n",
    "api_key = 'z5UAxjzr7fcHZtzYVWNJ'\n",
    "\n",
    "\n",
    "chart_studio.tools.set_credentials_file(username=username,api_key=api_key)"
   ]
  },
  {
   "cell_type": "code",
   "execution_count": null,
   "metadata": {},
   "outputs": [],
   "source": []
  },
  {
   "cell_type": "code",
   "execution_count": null,
   "metadata": {},
   "outputs": [],
   "source": []
  },
  {
   "cell_type": "markdown",
   "metadata": {},
   "source": [
    "# How Big is the rental market in kings county"
   ]
  },
  {
   "cell_type": "code",
   "execution_count": 101,
   "metadata": {},
   "outputs": [
    {
     "data": {
      "text/html": [
       "<div>\n",
       "<style scoped>\n",
       "    .dataframe tbody tr th:only-of-type {\n",
       "        vertical-align: middle;\n",
       "    }\n",
       "\n",
       "    .dataframe tbody tr th {\n",
       "        vertical-align: top;\n",
       "    }\n",
       "\n",
       "    .dataframe thead th {\n",
       "        text-align: right;\n",
       "    }\n",
       "</style>\n",
       "<table border=\"1\" class=\"dataframe\">\n",
       "  <thead>\n",
       "    <tr style=\"text-align: right;\">\n",
       "      <th></th>\n",
       "      <th>ID Occupied By</th>\n",
       "      <th>Occupied By</th>\n",
       "      <th>ID Year</th>\n",
       "      <th>Year</th>\n",
       "      <th>Household Ownership</th>\n",
       "      <th>Household Ownership Moe</th>\n",
       "      <th>Geography</th>\n",
       "      <th>ID Geography</th>\n",
       "      <th>Slug Geography</th>\n",
       "      <th>share</th>\n",
       "    </tr>\n",
       "  </thead>\n",
       "  <tbody>\n",
       "    <tr>\n",
       "      <td>0</td>\n",
       "      <td>0</td>\n",
       "      <td>Owner Occupied</td>\n",
       "      <td>2017</td>\n",
       "      <td>2017</td>\n",
       "      <td>67077</td>\n",
       "      <td>975.0</td>\n",
       "      <td>Kitsap County, WA</td>\n",
       "      <td>05000US53035</td>\n",
       "      <td>kitsap-county-wa</td>\n",
       "      <td>0.667539</td>\n",
       "    </tr>\n",
       "    <tr>\n",
       "      <td>1</td>\n",
       "      <td>0</td>\n",
       "      <td>Owner Occupied</td>\n",
       "      <td>2017</td>\n",
       "      <td>2017</td>\n",
       "      <td>869598</td>\n",
       "      <td>5241.0</td>\n",
       "      <td>Seattle-Tacoma-Bellevue, WA</td>\n",
       "      <td>31000US42660</td>\n",
       "      <td>seattle-tacoma-bellevue-wa-metro-area</td>\n",
       "      <td>0.600388</td>\n",
       "    </tr>\n",
       "    <tr>\n",
       "      <td>2</td>\n",
       "      <td>0</td>\n",
       "      <td>Owner Occupied</td>\n",
       "      <td>2017</td>\n",
       "      <td>2017</td>\n",
       "      <td>51225</td>\n",
       "      <td>959.0</td>\n",
       "      <td>Yakima County, WA</td>\n",
       "      <td>05000US53077</td>\n",
       "      <td>yakima-county-wa</td>\n",
       "      <td>0.626836</td>\n",
       "    </tr>\n",
       "    <tr>\n",
       "      <td>3</td>\n",
       "      <td>0</td>\n",
       "      <td>Owner Occupied</td>\n",
       "      <td>2017</td>\n",
       "      <td>2017</td>\n",
       "      <td>75833135</td>\n",
       "      <td>358989.0</td>\n",
       "      <td>United States</td>\n",
       "      <td>01000US</td>\n",
       "      <td>united-states</td>\n",
       "      <td>0.638187</td>\n",
       "    </tr>\n",
       "    <tr>\n",
       "      <td>4</td>\n",
       "      <td>0</td>\n",
       "      <td>Owner Occupied</td>\n",
       "      <td>2017</td>\n",
       "      <td>2017</td>\n",
       "      <td>189431</td>\n",
       "      <td>2015.0</td>\n",
       "      <td>Snohomish County, WA</td>\n",
       "      <td>05000US53061</td>\n",
       "      <td>snohomish-county-wa</td>\n",
       "      <td>0.665892</td>\n",
       "    </tr>\n",
       "    <tr>\n",
       "      <td>5</td>\n",
       "      <td>0</td>\n",
       "      <td>Owner Occupied</td>\n",
       "      <td>2017</td>\n",
       "      <td>2017</td>\n",
       "      <td>191613</td>\n",
       "      <td>1777.0</td>\n",
       "      <td>Pierce County, WA</td>\n",
       "      <td>05000US53053</td>\n",
       "      <td>pierce-county-wa</td>\n",
       "      <td>0.612497</td>\n",
       "    </tr>\n",
       "    <tr>\n",
       "      <td>6</td>\n",
       "      <td>0</td>\n",
       "      <td>Owner Occupied</td>\n",
       "      <td>2017</td>\n",
       "      <td>2017</td>\n",
       "      <td>10172</td>\n",
       "      <td>346.0</td>\n",
       "      <td>Kittitas County, WA</td>\n",
       "      <td>05000US53037</td>\n",
       "      <td>kittitas-county-wa</td>\n",
       "      <td>0.576383</td>\n",
       "    </tr>\n",
       "    <tr>\n",
       "      <td>7</td>\n",
       "      <td>0</td>\n",
       "      <td>Owner Occupied</td>\n",
       "      <td>2017</td>\n",
       "      <td>2017</td>\n",
       "      <td>488554</td>\n",
       "      <td>3431.0</td>\n",
       "      <td>King County, WA</td>\n",
       "      <td>05000US53033</td>\n",
       "      <td>king-county-wa</td>\n",
       "      <td>0.574042</td>\n",
       "    </tr>\n",
       "    <tr>\n",
       "      <td>8</td>\n",
       "      <td>0</td>\n",
       "      <td>Owner Occupied</td>\n",
       "      <td>2017</td>\n",
       "      <td>2017</td>\n",
       "      <td>18007</td>\n",
       "      <td>671.0</td>\n",
       "      <td>Chelan County, WA</td>\n",
       "      <td>05000US53007</td>\n",
       "      <td>chelan-county-wa</td>\n",
       "      <td>0.657598</td>\n",
       "    </tr>\n",
       "    <tr>\n",
       "      <td>9</td>\n",
       "      <td>0</td>\n",
       "      <td>Owner Occupied</td>\n",
       "      <td>2017</td>\n",
       "      <td>2017</td>\n",
       "      <td>1726899</td>\n",
       "      <td>9300.0</td>\n",
       "      <td>Washington</td>\n",
       "      <td>04000US53</td>\n",
       "      <td>washington</td>\n",
       "      <td>0.626665</td>\n",
       "    </tr>\n",
       "  </tbody>\n",
       "</table>\n",
       "</div>"
      ],
      "text/plain": [
       "   ID Occupied By     Occupied By  ID Year  Year  Household Ownership  \\\n",
       "0               0  Owner Occupied     2017  2017                67077   \n",
       "1               0  Owner Occupied     2017  2017               869598   \n",
       "2               0  Owner Occupied     2017  2017                51225   \n",
       "3               0  Owner Occupied     2017  2017             75833135   \n",
       "4               0  Owner Occupied     2017  2017               189431   \n",
       "5               0  Owner Occupied     2017  2017               191613   \n",
       "6               0  Owner Occupied     2017  2017                10172   \n",
       "7               0  Owner Occupied     2017  2017               488554   \n",
       "8               0  Owner Occupied     2017  2017                18007   \n",
       "9               0  Owner Occupied     2017  2017              1726899   \n",
       "\n",
       "   Household Ownership Moe                    Geography  ID Geography  \\\n",
       "0                    975.0            Kitsap County, WA  05000US53035   \n",
       "1                   5241.0  Seattle-Tacoma-Bellevue, WA  31000US42660   \n",
       "2                    959.0            Yakima County, WA  05000US53077   \n",
       "3                 358989.0                United States       01000US   \n",
       "4                   2015.0         Snohomish County, WA  05000US53061   \n",
       "5                   1777.0            Pierce County, WA  05000US53053   \n",
       "6                    346.0          Kittitas County, WA  05000US53037   \n",
       "7                   3431.0              King County, WA  05000US53033   \n",
       "8                    671.0            Chelan County, WA  05000US53007   \n",
       "9                   9300.0                   Washington     04000US53   \n",
       "\n",
       "                          Slug Geography     share  \n",
       "0                       kitsap-county-wa  0.667539  \n",
       "1  seattle-tacoma-bellevue-wa-metro-area  0.600388  \n",
       "2                       yakima-county-wa  0.626836  \n",
       "3                          united-states  0.638187  \n",
       "4                    snohomish-county-wa  0.665892  \n",
       "5                       pierce-county-wa  0.612497  \n",
       "6                     kittitas-county-wa  0.576383  \n",
       "7                         king-county-wa  0.574042  \n",
       "8                       chelan-county-wa  0.657598  \n",
       "9                             washington  0.626665  "
      ]
     },
     "execution_count": 101,
     "metadata": {},
     "output_type": "execute_result"
    }
   ],
   "source": [
    "df_renters_data.head(10)"
   ]
  },
  {
   "cell_type": "code",
   "execution_count": 102,
   "metadata": {},
   "outputs": [
    {
     "data": {
      "text/html": [
       "<div>\n",
       "<style scoped>\n",
       "    .dataframe tbody tr th:only-of-type {\n",
       "        vertical-align: middle;\n",
       "    }\n",
       "\n",
       "    .dataframe tbody tr th {\n",
       "        vertical-align: top;\n",
       "    }\n",
       "\n",
       "    .dataframe thead th {\n",
       "        text-align: right;\n",
       "    }\n",
       "</style>\n",
       "<table border=\"1\" class=\"dataframe\">\n",
       "  <thead>\n",
       "    <tr style=\"text-align: right;\">\n",
       "      <th></th>\n",
       "      <th>Year</th>\n",
       "      <th>Household Ownership</th>\n",
       "      <th>Household Ownership Moe</th>\n",
       "      <th>Geography</th>\n",
       "      <th>share</th>\n",
       "    </tr>\n",
       "  </thead>\n",
       "  <tbody>\n",
       "    <tr>\n",
       "      <td>0</td>\n",
       "      <td>2017</td>\n",
       "      <td>67077</td>\n",
       "      <td>975.0</td>\n",
       "      <td>Kitsap County, WA</td>\n",
       "      <td>0.667539</td>\n",
       "    </tr>\n",
       "    <tr>\n",
       "      <td>1</td>\n",
       "      <td>2017</td>\n",
       "      <td>869598</td>\n",
       "      <td>5241.0</td>\n",
       "      <td>Seattle-Tacoma-Bellevue, WA</td>\n",
       "      <td>0.600388</td>\n",
       "    </tr>\n",
       "    <tr>\n",
       "      <td>2</td>\n",
       "      <td>2017</td>\n",
       "      <td>51225</td>\n",
       "      <td>959.0</td>\n",
       "      <td>Yakima County, WA</td>\n",
       "      <td>0.626836</td>\n",
       "    </tr>\n",
       "    <tr>\n",
       "      <td>3</td>\n",
       "      <td>2017</td>\n",
       "      <td>75833135</td>\n",
       "      <td>358989.0</td>\n",
       "      <td>United States</td>\n",
       "      <td>0.638187</td>\n",
       "    </tr>\n",
       "    <tr>\n",
       "      <td>4</td>\n",
       "      <td>2017</td>\n",
       "      <td>189431</td>\n",
       "      <td>2015.0</td>\n",
       "      <td>Snohomish County, WA</td>\n",
       "      <td>0.665892</td>\n",
       "    </tr>\n",
       "  </tbody>\n",
       "</table>\n",
       "</div>"
      ],
      "text/plain": [
       "   Year  Household Ownership  Household Ownership Moe  \\\n",
       "0  2017                67077                    975.0   \n",
       "1  2017               869598                   5241.0   \n",
       "2  2017                51225                    959.0   \n",
       "3  2017             75833135                 358989.0   \n",
       "4  2017               189431                   2015.0   \n",
       "\n",
       "                     Geography     share  \n",
       "0            Kitsap County, WA  0.667539  \n",
       "1  Seattle-Tacoma-Bellevue, WA  0.600388  \n",
       "2            Yakima County, WA  0.626836  \n",
       "3                United States  0.638187  \n",
       "4         Snohomish County, WA  0.665892  "
      ]
     },
     "execution_count": 102,
     "metadata": {},
     "output_type": "execute_result"
    }
   ],
   "source": [
    "df_renters_data.drop(columns= ['ID Occupied By','ID Geography','Slug Geography','Occupied By','ID Year'], inplace=True)\n",
    "df_renters_data.head()"
   ]
  },
  {
   "cell_type": "code",
   "execution_count": 103,
   "metadata": {},
   "outputs": [
    {
     "data": {
      "text/plain": [
       "0     False\n",
       "1     False\n",
       "2     False\n",
       "3     False\n",
       "4     False\n",
       "5     False\n",
       "6     False\n",
       "7      True\n",
       "8     False\n",
       "9     False\n",
       "10    False\n",
       "11    False\n",
       "12     True\n",
       "13    False\n",
       "14    False\n",
       "15    False\n",
       "16    False\n",
       "17    False\n",
       "18    False\n",
       "19    False\n",
       "20    False\n",
       "21    False\n",
       "22    False\n",
       "23    False\n",
       "24    False\n",
       "25    False\n",
       "26    False\n",
       "27    False\n",
       "28     True\n",
       "29    False\n",
       "30    False\n",
       "31    False\n",
       "32    False\n",
       "33    False\n",
       "34    False\n",
       "35     True\n",
       "36    False\n",
       "37    False\n",
       "38    False\n",
       "39    False\n",
       "40    False\n",
       "41    False\n",
       "42    False\n",
       "43    False\n",
       "44    False\n",
       "45     True\n",
       "46    False\n",
       "47    False\n",
       "48    False\n",
       "49    False\n",
       "Name: Geography, dtype: bool"
      ]
     },
     "execution_count": 103,
     "metadata": {},
     "output_type": "execute_result"
    }
   ],
   "source": [
    "df_renters_data.Geography == 'King County, WA'"
   ]
  },
  {
   "cell_type": "code",
   "execution_count": 104,
   "metadata": {},
   "outputs": [],
   "source": [
    "graph_df= df_renters_data[df_renters_data.Geography == 'King County, WA']"
   ]
  },
  {
   "cell_type": "code",
   "execution_count": 117,
   "metadata": {},
   "outputs": [
    {
     "data": {
      "text/html": [
       "<div>\n",
       "<style scoped>\n",
       "    .dataframe tbody tr th:only-of-type {\n",
       "        vertical-align: middle;\n",
       "    }\n",
       "\n",
       "    .dataframe tbody tr th {\n",
       "        vertical-align: top;\n",
       "    }\n",
       "\n",
       "    .dataframe thead th {\n",
       "        text-align: right;\n",
       "    }\n",
       "</style>\n",
       "<table border=\"1\" class=\"dataframe\">\n",
       "  <thead>\n",
       "    <tr style=\"text-align: right;\">\n",
       "      <th></th>\n",
       "      <th>Year</th>\n",
       "      <th>Household Ownership</th>\n",
       "      <th>Household Ownership Moe</th>\n",
       "      <th>Geography</th>\n",
       "      <th>share</th>\n",
       "    </tr>\n",
       "  </thead>\n",
       "  <tbody>\n",
       "    <tr>\n",
       "      <td>7</td>\n",
       "      <td>2017</td>\n",
       "      <td>488554</td>\n",
       "      <td>3431.0</td>\n",
       "      <td>King County, WA</td>\n",
       "      <td>0.574042</td>\n",
       "    </tr>\n",
       "    <tr>\n",
       "      <td>12</td>\n",
       "      <td>2016</td>\n",
       "      <td>476551</td>\n",
       "      <td>3698.0</td>\n",
       "      <td>King County, WA</td>\n",
       "      <td>0.572781</td>\n",
       "    </tr>\n",
       "    <tr>\n",
       "      <td>28</td>\n",
       "      <td>2015</td>\n",
       "      <td>470632</td>\n",
       "      <td>3225.0</td>\n",
       "      <td>King County, WA</td>\n",
       "      <td>0.574186</td>\n",
       "    </tr>\n",
       "    <tr>\n",
       "      <td>35</td>\n",
       "      <td>2014</td>\n",
       "      <td>464625</td>\n",
       "      <td>3340.0</td>\n",
       "      <td>King County, WA</td>\n",
       "      <td>0.574513</td>\n",
       "    </tr>\n",
       "    <tr>\n",
       "      <td>45</td>\n",
       "      <td>2013</td>\n",
       "      <td>466964</td>\n",
       "      <td>3285.0</td>\n",
       "      <td>King County, WA</td>\n",
       "      <td>0.581810</td>\n",
       "    </tr>\n",
       "  </tbody>\n",
       "</table>\n",
       "</div>"
      ],
      "text/plain": [
       "    Year  Household Ownership  Household Ownership Moe        Geography  \\\n",
       "7   2017               488554                   3431.0  King County, WA   \n",
       "12  2016               476551                   3698.0  King County, WA   \n",
       "28  2015               470632                   3225.0  King County, WA   \n",
       "35  2014               464625                   3340.0  King County, WA   \n",
       "45  2013               466964                   3285.0  King County, WA   \n",
       "\n",
       "       share  \n",
       "7   0.574042  \n",
       "12  0.572781  \n",
       "28  0.574186  \n",
       "35  0.574513  \n",
       "45  0.581810  "
      ]
     },
     "execution_count": 117,
     "metadata": {},
     "output_type": "execute_result"
    }
   ],
   "source": [
    "graph_df.head()"
   ]
  },
  {
   "cell_type": "code",
   "execution_count": 105,
   "metadata": {},
   "outputs": [],
   "source": []
  },
  {
   "cell_type": "markdown",
   "metadata": {},
   "source": [
    "# has rental value been increasing?"
   ]
  },
  {
   "cell_type": "code",
   "execution_count": 116,
   "metadata": {
    "scrolled": false
   },
   "outputs": [
    {
     "data": {
      "text/html": [
       "<div>\n",
       "<style scoped>\n",
       "    .dataframe tbody tr th:only-of-type {\n",
       "        vertical-align: middle;\n",
       "    }\n",
       "\n",
       "    .dataframe tbody tr th {\n",
       "        vertical-align: top;\n",
       "    }\n",
       "\n",
       "    .dataframe thead th {\n",
       "        text-align: right;\n",
       "    }\n",
       "</style>\n",
       "<table border=\"1\" class=\"dataframe\">\n",
       "  <thead>\n",
       "    <tr style=\"text-align: right;\">\n",
       "      <th></th>\n",
       "      <th>Month</th>\n",
       "      <th>Price</th>\n",
       "      <th>2011_total</th>\n",
       "      <th>2012_total</th>\n",
       "      <th>2013_total</th>\n",
       "      <th>2014_total</th>\n",
       "      <th>2015_total</th>\n",
       "      <th>2016_total</th>\n",
       "      <th>2017_total</th>\n",
       "      <th>2018_total</th>\n",
       "      <th>2019_total</th>\n",
       "    </tr>\n",
       "  </thead>\n",
       "  <tbody>\n",
       "    <tr>\n",
       "      <td>0</td>\n",
       "      <td>2010-09-15</td>\n",
       "      <td>1745</td>\n",
       "      <td>21401.0</td>\n",
       "      <td>21799.0</td>\n",
       "      <td>22908.0</td>\n",
       "      <td>25283.0</td>\n",
       "      <td>27525.0</td>\n",
       "      <td>29372.0</td>\n",
       "      <td>29827.0</td>\n",
       "      <td>29664.0</td>\n",
       "      <td>32534.0</td>\n",
       "    </tr>\n",
       "    <tr>\n",
       "      <td>1</td>\n",
       "      <td>2010-10-15</td>\n",
       "      <td>1760</td>\n",
       "      <td>NaN</td>\n",
       "      <td>NaN</td>\n",
       "      <td>NaN</td>\n",
       "      <td>NaN</td>\n",
       "      <td>NaN</td>\n",
       "      <td>NaN</td>\n",
       "      <td>NaN</td>\n",
       "      <td>NaN</td>\n",
       "      <td>NaN</td>\n",
       "    </tr>\n",
       "    <tr>\n",
       "      <td>2</td>\n",
       "      <td>2010-11-15</td>\n",
       "      <td>1768</td>\n",
       "      <td>NaN</td>\n",
       "      <td>NaN</td>\n",
       "      <td>NaN</td>\n",
       "      <td>NaN</td>\n",
       "      <td>NaN</td>\n",
       "      <td>NaN</td>\n",
       "      <td>NaN</td>\n",
       "      <td>NaN</td>\n",
       "      <td>NaN</td>\n",
       "    </tr>\n",
       "    <tr>\n",
       "      <td>3</td>\n",
       "      <td>2010-12-15</td>\n",
       "      <td>1770</td>\n",
       "      <td>NaN</td>\n",
       "      <td>NaN</td>\n",
       "      <td>NaN</td>\n",
       "      <td>NaN</td>\n",
       "      <td>NaN</td>\n",
       "      <td>NaN</td>\n",
       "      <td>NaN</td>\n",
       "      <td>NaN</td>\n",
       "      <td>NaN</td>\n",
       "    </tr>\n",
       "    <tr>\n",
       "      <td>4</td>\n",
       "      <td>2011-01-15</td>\n",
       "      <td>1768</td>\n",
       "      <td>NaN</td>\n",
       "      <td>NaN</td>\n",
       "      <td>NaN</td>\n",
       "      <td>NaN</td>\n",
       "      <td>NaN</td>\n",
       "      <td>NaN</td>\n",
       "      <td>NaN</td>\n",
       "      <td>NaN</td>\n",
       "      <td>NaN</td>\n",
       "    </tr>\n",
       "    <tr>\n",
       "      <td>...</td>\n",
       "      <td>...</td>\n",
       "      <td>...</td>\n",
       "      <td>...</td>\n",
       "      <td>...</td>\n",
       "      <td>...</td>\n",
       "      <td>...</td>\n",
       "      <td>...</td>\n",
       "      <td>...</td>\n",
       "      <td>...</td>\n",
       "      <td>...</td>\n",
       "      <td>...</td>\n",
       "    </tr>\n",
       "    <tr>\n",
       "      <td>107</td>\n",
       "      <td>2019-08-15</td>\n",
       "      <td>2540</td>\n",
       "      <td>NaN</td>\n",
       "      <td>NaN</td>\n",
       "      <td>NaN</td>\n",
       "      <td>NaN</td>\n",
       "      <td>NaN</td>\n",
       "      <td>NaN</td>\n",
       "      <td>NaN</td>\n",
       "      <td>NaN</td>\n",
       "      <td>NaN</td>\n",
       "    </tr>\n",
       "    <tr>\n",
       "      <td>108</td>\n",
       "      <td>2019-09-15</td>\n",
       "      <td>2548</td>\n",
       "      <td>NaN</td>\n",
       "      <td>NaN</td>\n",
       "      <td>NaN</td>\n",
       "      <td>NaN</td>\n",
       "      <td>NaN</td>\n",
       "      <td>NaN</td>\n",
       "      <td>NaN</td>\n",
       "      <td>NaN</td>\n",
       "      <td>NaN</td>\n",
       "    </tr>\n",
       "    <tr>\n",
       "      <td>109</td>\n",
       "      <td>2019-10-15</td>\n",
       "      <td>2545</td>\n",
       "      <td>NaN</td>\n",
       "      <td>NaN</td>\n",
       "      <td>NaN</td>\n",
       "      <td>NaN</td>\n",
       "      <td>NaN</td>\n",
       "      <td>NaN</td>\n",
       "      <td>NaN</td>\n",
       "      <td>NaN</td>\n",
       "      <td>NaN</td>\n",
       "    </tr>\n",
       "    <tr>\n",
       "      <td>110</td>\n",
       "      <td>2019-11-15</td>\n",
       "      <td>2532</td>\n",
       "      <td>NaN</td>\n",
       "      <td>NaN</td>\n",
       "      <td>NaN</td>\n",
       "      <td>NaN</td>\n",
       "      <td>NaN</td>\n",
       "      <td>NaN</td>\n",
       "      <td>NaN</td>\n",
       "      <td>NaN</td>\n",
       "      <td>NaN</td>\n",
       "    </tr>\n",
       "    <tr>\n",
       "      <td>111</td>\n",
       "      <td>2019-12-15</td>\n",
       "      <td>2523</td>\n",
       "      <td>NaN</td>\n",
       "      <td>NaN</td>\n",
       "      <td>NaN</td>\n",
       "      <td>NaN</td>\n",
       "      <td>NaN</td>\n",
       "      <td>NaN</td>\n",
       "      <td>NaN</td>\n",
       "      <td>NaN</td>\n",
       "      <td>NaN</td>\n",
       "    </tr>\n",
       "  </tbody>\n",
       "</table>\n",
       "<p>112 rows × 11 columns</p>\n",
       "</div>"
      ],
      "text/plain": [
       "         Month  Price  2011_total  2012_total  2013_total  2014_total  \\\n",
       "0   2010-09-15   1745     21401.0     21799.0     22908.0     25283.0   \n",
       "1   2010-10-15   1760         NaN         NaN         NaN         NaN   \n",
       "2   2010-11-15   1768         NaN         NaN         NaN         NaN   \n",
       "3   2010-12-15   1770         NaN         NaN         NaN         NaN   \n",
       "4   2011-01-15   1768         NaN         NaN         NaN         NaN   \n",
       "..         ...    ...         ...         ...         ...         ...   \n",
       "107 2019-08-15   2540         NaN         NaN         NaN         NaN   \n",
       "108 2019-09-15   2548         NaN         NaN         NaN         NaN   \n",
       "109 2019-10-15   2545         NaN         NaN         NaN         NaN   \n",
       "110 2019-11-15   2532         NaN         NaN         NaN         NaN   \n",
       "111 2019-12-15   2523         NaN         NaN         NaN         NaN   \n",
       "\n",
       "     2015_total  2016_total  2017_total  2018_total  2019_total  \n",
       "0       27525.0     29372.0     29827.0     29664.0     32534.0  \n",
       "1           NaN         NaN         NaN         NaN         NaN  \n",
       "2           NaN         NaN         NaN         NaN         NaN  \n",
       "3           NaN         NaN         NaN         NaN         NaN  \n",
       "4           NaN         NaN         NaN         NaN         NaN  \n",
       "..          ...         ...         ...         ...         ...  \n",
       "107         NaN         NaN         NaN         NaN         NaN  \n",
       "108         NaN         NaN         NaN         NaN         NaN  \n",
       "109         NaN         NaN         NaN         NaN         NaN  \n",
       "110         NaN         NaN         NaN         NaN         NaN  \n",
       "111         NaN         NaN         NaN         NaN         NaN  \n",
       "\n",
       "[112 rows x 11 columns]"
      ]
     },
     "execution_count": 116,
     "metadata": {},
     "output_type": "execute_result"
    }
   ],
   "source": [
    "df_rental_value.head(-1)"
   ]
  },
  {
   "cell_type": "code",
   "execution_count": 107,
   "metadata": {
    "scrolled": true
   },
   "outputs": [],
   "source": [
    "kc_rentvalue= df_rental_value.iloc[0]"
   ]
  },
  {
   "cell_type": "code",
   "execution_count": 108,
   "metadata": {},
   "outputs": [
    {
     "data": {
      "text/plain": [
       "Month         2010-09-15 00:00:00\n",
       "Price                        1745\n",
       "2011_total                  21401\n",
       "2012_total                  21799\n",
       "2013_total                  22908\n",
       "2014_total                  25283\n",
       "2015_total                  27525\n",
       "2016_total                  29372\n",
       "2017_total                  29827\n",
       "2018_total                  29664\n",
       "Name: 0, dtype: object"
      ]
     },
     "execution_count": 108,
     "metadata": {},
     "output_type": "execute_result"
    }
   ],
   "source": [
    "kc_rentvalue.head(10)"
   ]
  },
  {
   "cell_type": "code",
   "execution_count": 115,
   "metadata": {
    "scrolled": false
   },
   "outputs": [
    {
     "data": {
      "application/vnd.plotly.v1+json": {
       "config": {
        "plotlyServerURL": "https://plot.ly"
       },
       "data": [
        {
         "type": "scatter",
         "x": [
          "2010-09-15T00:00:00",
          "2010-10-15T00:00:00",
          "2010-11-15T00:00:00",
          "2010-12-15T00:00:00",
          "2011-01-15T00:00:00",
          "2011-02-15T00:00:00",
          "2011-03-15T00:00:00",
          "2011-04-15T00:00:00",
          "2011-05-15T00:00:00",
          "2011-06-15T00:00:00",
          "2011-07-15T00:00:00",
          "2011-08-15T00:00:00",
          "2011-09-15T00:00:00",
          "2011-10-15T00:00:00",
          "2011-11-15T00:00:00",
          "2011-12-15T00:00:00",
          "2012-01-15T00:00:00",
          "2012-02-15T00:00:00",
          "2012-03-15T00:00:00",
          "2012-04-15T00:00:00",
          "2012-05-15T00:00:00",
          "2012-06-15T00:00:00",
          "2012-07-15T00:00:00",
          "2012-08-15T00:00:00",
          "2012-09-15T00:00:00",
          "2012-10-15T00:00:00",
          "2012-11-15T00:00:00",
          "2012-12-15T00:00:00",
          "2013-01-15T00:00:00",
          "2013-02-15T00:00:00",
          "2013-03-15T00:00:00",
          "2013-04-15T00:00:00",
          "2013-05-15T00:00:00",
          "2013-06-15T00:00:00",
          "2013-07-15T00:00:00",
          "2013-08-15T00:00:00",
          "2013-09-15T00:00:00",
          "2013-10-15T00:00:00",
          "2013-11-15T00:00:00",
          "2013-12-15T00:00:00",
          "2014-01-15T00:00:00",
          "2014-02-15T00:00:00",
          "2014-03-15T00:00:00",
          "2014-04-15T00:00:00",
          "2014-05-15T00:00:00",
          "2014-06-15T00:00:00",
          "2014-07-15T00:00:00",
          "2014-08-15T00:00:00",
          "2014-09-15T00:00:00",
          "2014-10-15T00:00:00",
          "2014-11-15T00:00:00",
          "2014-12-15T00:00:00",
          "2015-01-15T00:00:00",
          "2015-02-15T00:00:00",
          "2015-03-15T00:00:00",
          "2015-04-15T00:00:00",
          "2015-05-15T00:00:00",
          "2015-06-15T00:00:00",
          "2015-07-15T00:00:00",
          "2015-08-15T00:00:00",
          "2015-09-15T00:00:00",
          "2015-10-15T00:00:00",
          "2015-11-15T00:00:00",
          "2015-12-15T00:00:00",
          "2016-01-15T00:00:00",
          "2016-02-15T00:00:00",
          "2016-03-15T00:00:00",
          "2016-04-15T00:00:00",
          "2016-05-15T00:00:00",
          "2016-06-15T00:00:00",
          "2016-07-15T00:00:00",
          "2016-08-15T00:00:00",
          "2016-09-15T00:00:00",
          "2016-10-15T00:00:00",
          "2016-11-15T00:00:00",
          "2016-12-15T00:00:00",
          "2017-01-15T00:00:00",
          "2017-02-15T00:00:00",
          "2017-03-15T00:00:00",
          "2017-04-15T00:00:00",
          "2017-05-15T00:00:00",
          "2017-06-15T00:00:00",
          "2017-07-15T00:00:00",
          "2017-08-15T00:00:00",
          "2017-09-15T00:00:00",
          "2017-10-15T00:00:00",
          "2017-11-15T00:00:00",
          "2017-12-15T00:00:00",
          "2018-01-15T00:00:00",
          "2018-02-15T00:00:00",
          "2018-03-15T00:00:00",
          "2018-04-15T00:00:00",
          "2018-05-15T00:00:00",
          "2018-06-15T00:00:00",
          "2018-07-15T00:00:00",
          "2018-08-15T00:00:00",
          "2018-09-15T00:00:00",
          "2018-10-15T00:00:00",
          "2018-11-15T00:00:00",
          "2018-12-15T00:00:00",
          "2019-01-15T00:00:00",
          "2019-02-15T00:00:00",
          "2019-03-15T00:00:00",
          "2019-04-15T00:00:00",
          "2019-05-15T00:00:00",
          "2019-06-15T00:00:00",
          "2019-07-15T00:00:00",
          "2019-08-15T00:00:00",
          "2019-09-15T00:00:00",
          "2019-10-15T00:00:00",
          "2019-11-15T00:00:00",
          "2019-12-15T00:00:00",
          "2020-01-15T00:00:00"
         ],
         "y": [
          1745,
          1760,
          1768,
          1770,
          1768,
          1763,
          1760,
          1757,
          1762,
          1773,
          1790,
          1802,
          1809,
          1810,
          1806,
          1801,
          1799,
          1794,
          1790,
          1793,
          1796,
          1805,
          1820,
          1833,
          1840,
          1845,
          1843,
          1841,
          1845,
          1845,
          1847,
          1854,
          1866,
          1881,
          1901,
          1927,
          1953,
          1976,
          1998,
          2015,
          2027,
          2034,
          2031,
          2039,
          2045,
          2059,
          2100,
          2142,
          2182,
          2204,
          2209,
          2211,
          2210,
          2200,
          2209,
          2227,
          2256,
          2299,
          2343,
          2349,
          2353,
          2365,
          2356,
          2358,
          2373,
          2400,
          2410,
          2423,
          2445,
          2463,
          2479,
          2491,
          2493,
          2478,
          2467,
          2450,
          2443,
          2443,
          2445,
          2453,
          2472,
          2498,
          2520,
          2535,
          2531,
          2518,
          2494,
          2475,
          2454,
          2444,
          2442,
          2440,
          2445,
          2469,
          2493,
          2504,
          2506,
          2503,
          2489,
          2475,
          2457,
          2451,
          2455,
          2463,
          2480,
          2502,
          2523,
          2540,
          2548,
          2545,
          2532,
          2523,
          2515
         ]
        }
       ],
       "layout": {
        "template": {
         "data": {
          "bar": [
           {
            "error_x": {
             "color": "#2a3f5f"
            },
            "error_y": {
             "color": "#2a3f5f"
            },
            "marker": {
             "line": {
              "color": "#E5ECF6",
              "width": 0.5
             }
            },
            "type": "bar"
           }
          ],
          "barpolar": [
           {
            "marker": {
             "line": {
              "color": "#E5ECF6",
              "width": 0.5
             }
            },
            "type": "barpolar"
           }
          ],
          "carpet": [
           {
            "aaxis": {
             "endlinecolor": "#2a3f5f",
             "gridcolor": "white",
             "linecolor": "white",
             "minorgridcolor": "white",
             "startlinecolor": "#2a3f5f"
            },
            "baxis": {
             "endlinecolor": "#2a3f5f",
             "gridcolor": "white",
             "linecolor": "white",
             "minorgridcolor": "white",
             "startlinecolor": "#2a3f5f"
            },
            "type": "carpet"
           }
          ],
          "choropleth": [
           {
            "colorbar": {
             "outlinewidth": 0,
             "ticks": ""
            },
            "type": "choropleth"
           }
          ],
          "contour": [
           {
            "colorbar": {
             "outlinewidth": 0,
             "ticks": ""
            },
            "colorscale": [
             [
              0,
              "#0d0887"
             ],
             [
              0.1111111111111111,
              "#46039f"
             ],
             [
              0.2222222222222222,
              "#7201a8"
             ],
             [
              0.3333333333333333,
              "#9c179e"
             ],
             [
              0.4444444444444444,
              "#bd3786"
             ],
             [
              0.5555555555555556,
              "#d8576b"
             ],
             [
              0.6666666666666666,
              "#ed7953"
             ],
             [
              0.7777777777777778,
              "#fb9f3a"
             ],
             [
              0.8888888888888888,
              "#fdca26"
             ],
             [
              1,
              "#f0f921"
             ]
            ],
            "type": "contour"
           }
          ],
          "contourcarpet": [
           {
            "colorbar": {
             "outlinewidth": 0,
             "ticks": ""
            },
            "type": "contourcarpet"
           }
          ],
          "heatmap": [
           {
            "colorbar": {
             "outlinewidth": 0,
             "ticks": ""
            },
            "colorscale": [
             [
              0,
              "#0d0887"
             ],
             [
              0.1111111111111111,
              "#46039f"
             ],
             [
              0.2222222222222222,
              "#7201a8"
             ],
             [
              0.3333333333333333,
              "#9c179e"
             ],
             [
              0.4444444444444444,
              "#bd3786"
             ],
             [
              0.5555555555555556,
              "#d8576b"
             ],
             [
              0.6666666666666666,
              "#ed7953"
             ],
             [
              0.7777777777777778,
              "#fb9f3a"
             ],
             [
              0.8888888888888888,
              "#fdca26"
             ],
             [
              1,
              "#f0f921"
             ]
            ],
            "type": "heatmap"
           }
          ],
          "heatmapgl": [
           {
            "colorbar": {
             "outlinewidth": 0,
             "ticks": ""
            },
            "colorscale": [
             [
              0,
              "#0d0887"
             ],
             [
              0.1111111111111111,
              "#46039f"
             ],
             [
              0.2222222222222222,
              "#7201a8"
             ],
             [
              0.3333333333333333,
              "#9c179e"
             ],
             [
              0.4444444444444444,
              "#bd3786"
             ],
             [
              0.5555555555555556,
              "#d8576b"
             ],
             [
              0.6666666666666666,
              "#ed7953"
             ],
             [
              0.7777777777777778,
              "#fb9f3a"
             ],
             [
              0.8888888888888888,
              "#fdca26"
             ],
             [
              1,
              "#f0f921"
             ]
            ],
            "type": "heatmapgl"
           }
          ],
          "histogram": [
           {
            "marker": {
             "colorbar": {
              "outlinewidth": 0,
              "ticks": ""
             }
            },
            "type": "histogram"
           }
          ],
          "histogram2d": [
           {
            "colorbar": {
             "outlinewidth": 0,
             "ticks": ""
            },
            "colorscale": [
             [
              0,
              "#0d0887"
             ],
             [
              0.1111111111111111,
              "#46039f"
             ],
             [
              0.2222222222222222,
              "#7201a8"
             ],
             [
              0.3333333333333333,
              "#9c179e"
             ],
             [
              0.4444444444444444,
              "#bd3786"
             ],
             [
              0.5555555555555556,
              "#d8576b"
             ],
             [
              0.6666666666666666,
              "#ed7953"
             ],
             [
              0.7777777777777778,
              "#fb9f3a"
             ],
             [
              0.8888888888888888,
              "#fdca26"
             ],
             [
              1,
              "#f0f921"
             ]
            ],
            "type": "histogram2d"
           }
          ],
          "histogram2dcontour": [
           {
            "colorbar": {
             "outlinewidth": 0,
             "ticks": ""
            },
            "colorscale": [
             [
              0,
              "#0d0887"
             ],
             [
              0.1111111111111111,
              "#46039f"
             ],
             [
              0.2222222222222222,
              "#7201a8"
             ],
             [
              0.3333333333333333,
              "#9c179e"
             ],
             [
              0.4444444444444444,
              "#bd3786"
             ],
             [
              0.5555555555555556,
              "#d8576b"
             ],
             [
              0.6666666666666666,
              "#ed7953"
             ],
             [
              0.7777777777777778,
              "#fb9f3a"
             ],
             [
              0.8888888888888888,
              "#fdca26"
             ],
             [
              1,
              "#f0f921"
             ]
            ],
            "type": "histogram2dcontour"
           }
          ],
          "mesh3d": [
           {
            "colorbar": {
             "outlinewidth": 0,
             "ticks": ""
            },
            "type": "mesh3d"
           }
          ],
          "parcoords": [
           {
            "line": {
             "colorbar": {
              "outlinewidth": 0,
              "ticks": ""
             }
            },
            "type": "parcoords"
           }
          ],
          "scatter": [
           {
            "marker": {
             "colorbar": {
              "outlinewidth": 0,
              "ticks": ""
             }
            },
            "type": "scatter"
           }
          ],
          "scatter3d": [
           {
            "line": {
             "colorbar": {
              "outlinewidth": 0,
              "ticks": ""
             }
            },
            "marker": {
             "colorbar": {
              "outlinewidth": 0,
              "ticks": ""
             }
            },
            "type": "scatter3d"
           }
          ],
          "scattercarpet": [
           {
            "marker": {
             "colorbar": {
              "outlinewidth": 0,
              "ticks": ""
             }
            },
            "type": "scattercarpet"
           }
          ],
          "scattergeo": [
           {
            "marker": {
             "colorbar": {
              "outlinewidth": 0,
              "ticks": ""
             }
            },
            "type": "scattergeo"
           }
          ],
          "scattergl": [
           {
            "marker": {
             "colorbar": {
              "outlinewidth": 0,
              "ticks": ""
             }
            },
            "type": "scattergl"
           }
          ],
          "scattermapbox": [
           {
            "marker": {
             "colorbar": {
              "outlinewidth": 0,
              "ticks": ""
             }
            },
            "type": "scattermapbox"
           }
          ],
          "scatterpolar": [
           {
            "marker": {
             "colorbar": {
              "outlinewidth": 0,
              "ticks": ""
             }
            },
            "type": "scatterpolar"
           }
          ],
          "scatterpolargl": [
           {
            "marker": {
             "colorbar": {
              "outlinewidth": 0,
              "ticks": ""
             }
            },
            "type": "scatterpolargl"
           }
          ],
          "scatterternary": [
           {
            "marker": {
             "colorbar": {
              "outlinewidth": 0,
              "ticks": ""
             }
            },
            "type": "scatterternary"
           }
          ],
          "surface": [
           {
            "colorbar": {
             "outlinewidth": 0,
             "ticks": ""
            },
            "colorscale": [
             [
              0,
              "#0d0887"
             ],
             [
              0.1111111111111111,
              "#46039f"
             ],
             [
              0.2222222222222222,
              "#7201a8"
             ],
             [
              0.3333333333333333,
              "#9c179e"
             ],
             [
              0.4444444444444444,
              "#bd3786"
             ],
             [
              0.5555555555555556,
              "#d8576b"
             ],
             [
              0.6666666666666666,
              "#ed7953"
             ],
             [
              0.7777777777777778,
              "#fb9f3a"
             ],
             [
              0.8888888888888888,
              "#fdca26"
             ],
             [
              1,
              "#f0f921"
             ]
            ],
            "type": "surface"
           }
          ],
          "table": [
           {
            "cells": {
             "fill": {
              "color": "#EBF0F8"
             },
             "line": {
              "color": "white"
             }
            },
            "header": {
             "fill": {
              "color": "#C8D4E3"
             },
             "line": {
              "color": "white"
             }
            },
            "type": "table"
           }
          ]
         },
         "layout": {
          "annotationdefaults": {
           "arrowcolor": "#2a3f5f",
           "arrowhead": 0,
           "arrowwidth": 1
          },
          "colorscale": {
           "diverging": [
            [
             0,
             "#8e0152"
            ],
            [
             0.1,
             "#c51b7d"
            ],
            [
             0.2,
             "#de77ae"
            ],
            [
             0.3,
             "#f1b6da"
            ],
            [
             0.4,
             "#fde0ef"
            ],
            [
             0.5,
             "#f7f7f7"
            ],
            [
             0.6,
             "#e6f5d0"
            ],
            [
             0.7,
             "#b8e186"
            ],
            [
             0.8,
             "#7fbc41"
            ],
            [
             0.9,
             "#4d9221"
            ],
            [
             1,
             "#276419"
            ]
           ],
           "sequential": [
            [
             0,
             "#0d0887"
            ],
            [
             0.1111111111111111,
             "#46039f"
            ],
            [
             0.2222222222222222,
             "#7201a8"
            ],
            [
             0.3333333333333333,
             "#9c179e"
            ],
            [
             0.4444444444444444,
             "#bd3786"
            ],
            [
             0.5555555555555556,
             "#d8576b"
            ],
            [
             0.6666666666666666,
             "#ed7953"
            ],
            [
             0.7777777777777778,
             "#fb9f3a"
            ],
            [
             0.8888888888888888,
             "#fdca26"
            ],
            [
             1,
             "#f0f921"
            ]
           ],
           "sequentialminus": [
            [
             0,
             "#0d0887"
            ],
            [
             0.1111111111111111,
             "#46039f"
            ],
            [
             0.2222222222222222,
             "#7201a8"
            ],
            [
             0.3333333333333333,
             "#9c179e"
            ],
            [
             0.4444444444444444,
             "#bd3786"
            ],
            [
             0.5555555555555556,
             "#d8576b"
            ],
            [
             0.6666666666666666,
             "#ed7953"
            ],
            [
             0.7777777777777778,
             "#fb9f3a"
            ],
            [
             0.8888888888888888,
             "#fdca26"
            ],
            [
             1,
             "#f0f921"
            ]
           ]
          },
          "colorway": [
           "#636efa",
           "#EF553B",
           "#00cc96",
           "#ab63fa",
           "#FFA15A",
           "#19d3f3",
           "#FF6692",
           "#B6E880",
           "#FF97FF",
           "#FECB52"
          ],
          "font": {
           "color": "#2a3f5f"
          },
          "geo": {
           "bgcolor": "white",
           "lakecolor": "white",
           "landcolor": "#E5ECF6",
           "showlakes": true,
           "showland": true,
           "subunitcolor": "white"
          },
          "hoverlabel": {
           "align": "left"
          },
          "hovermode": "closest",
          "mapbox": {
           "style": "light"
          },
          "paper_bgcolor": "white",
          "plot_bgcolor": "#E5ECF6",
          "polar": {
           "angularaxis": {
            "gridcolor": "white",
            "linecolor": "white",
            "ticks": ""
           },
           "bgcolor": "#E5ECF6",
           "radialaxis": {
            "gridcolor": "white",
            "linecolor": "white",
            "ticks": ""
           }
          },
          "scene": {
           "xaxis": {
            "backgroundcolor": "#E5ECF6",
            "gridcolor": "white",
            "gridwidth": 2,
            "linecolor": "white",
            "showbackground": true,
            "ticks": "",
            "zerolinecolor": "white"
           },
           "yaxis": {
            "backgroundcolor": "#E5ECF6",
            "gridcolor": "white",
            "gridwidth": 2,
            "linecolor": "white",
            "showbackground": true,
            "ticks": "",
            "zerolinecolor": "white"
           },
           "zaxis": {
            "backgroundcolor": "#E5ECF6",
            "gridcolor": "white",
            "gridwidth": 2,
            "linecolor": "white",
            "showbackground": true,
            "ticks": "",
            "zerolinecolor": "white"
           }
          },
          "shapedefaults": {
           "line": {
            "color": "#2a3f5f"
           }
          },
          "ternary": {
           "aaxis": {
            "gridcolor": "white",
            "linecolor": "white",
            "ticks": ""
           },
           "baxis": {
            "gridcolor": "white",
            "linecolor": "white",
            "ticks": ""
           },
           "bgcolor": "#E5ECF6",
           "caxis": {
            "gridcolor": "white",
            "linecolor": "white",
            "ticks": ""
           }
          },
          "title": {
           "x": 0.05
          },
          "xaxis": {
           "automargin": true,
           "gridcolor": "white",
           "linecolor": "white",
           "ticks": "",
           "zerolinecolor": "white",
           "zerolinewidth": 2
          },
          "yaxis": {
           "automargin": true,
           "gridcolor": "white",
           "linecolor": "white",
           "ticks": "",
           "zerolinecolor": "white",
           "zerolinewidth": 2
          }
         }
        },
        "title": {
         "text": "Rental income over time"
        },
        "xaxis": {
         "rangeselector": {
          "buttons": [
           {
            "count": 1,
            "label": "1m",
            "step": "month",
            "stepmode": "backward"
           },
           {
            "count": 6,
            "label": "6m",
            "step": "month",
            "stepmode": "backward"
           },
           {
            "count": 1,
            "label": "YTD",
            "step": "year",
            "stepmode": "todate"
           },
           {
            "count": 1,
            "label": "1y",
            "step": "year",
            "stepmode": "backward"
           },
           {
            "step": "all"
           }
          ]
         },
         "rangeslider": {
          "visible": true
         },
         "type": "date"
        }
       }
      },
      "text/html": [
       "<div>\n",
       "        \n",
       "        \n",
       "            <div id=\"aff360bb-769c-4379-a5b2-0bf870a5069c\" class=\"plotly-graph-div\" style=\"height:525px; width:100%;\"></div>\n",
       "            <script type=\"text/javascript\">\n",
       "                require([\"plotly\"], function(Plotly) {\n",
       "                    window.PLOTLYENV=window.PLOTLYENV || {};\n",
       "                    \n",
       "                if (document.getElementById(\"aff360bb-769c-4379-a5b2-0bf870a5069c\")) {\n",
       "                    Plotly.newPlot(\n",
       "                        'aff360bb-769c-4379-a5b2-0bf870a5069c',\n",
       "                        [{\"type\": \"scatter\", \"x\": [\"2010-09-15T00:00:00\", \"2010-10-15T00:00:00\", \"2010-11-15T00:00:00\", \"2010-12-15T00:00:00\", \"2011-01-15T00:00:00\", \"2011-02-15T00:00:00\", \"2011-03-15T00:00:00\", \"2011-04-15T00:00:00\", \"2011-05-15T00:00:00\", \"2011-06-15T00:00:00\", \"2011-07-15T00:00:00\", \"2011-08-15T00:00:00\", \"2011-09-15T00:00:00\", \"2011-10-15T00:00:00\", \"2011-11-15T00:00:00\", \"2011-12-15T00:00:00\", \"2012-01-15T00:00:00\", \"2012-02-15T00:00:00\", \"2012-03-15T00:00:00\", \"2012-04-15T00:00:00\", \"2012-05-15T00:00:00\", \"2012-06-15T00:00:00\", \"2012-07-15T00:00:00\", \"2012-08-15T00:00:00\", \"2012-09-15T00:00:00\", \"2012-10-15T00:00:00\", \"2012-11-15T00:00:00\", \"2012-12-15T00:00:00\", \"2013-01-15T00:00:00\", \"2013-02-15T00:00:00\", \"2013-03-15T00:00:00\", \"2013-04-15T00:00:00\", \"2013-05-15T00:00:00\", \"2013-06-15T00:00:00\", \"2013-07-15T00:00:00\", \"2013-08-15T00:00:00\", \"2013-09-15T00:00:00\", \"2013-10-15T00:00:00\", \"2013-11-15T00:00:00\", \"2013-12-15T00:00:00\", \"2014-01-15T00:00:00\", \"2014-02-15T00:00:00\", \"2014-03-15T00:00:00\", \"2014-04-15T00:00:00\", \"2014-05-15T00:00:00\", \"2014-06-15T00:00:00\", \"2014-07-15T00:00:00\", \"2014-08-15T00:00:00\", \"2014-09-15T00:00:00\", \"2014-10-15T00:00:00\", \"2014-11-15T00:00:00\", \"2014-12-15T00:00:00\", \"2015-01-15T00:00:00\", \"2015-02-15T00:00:00\", \"2015-03-15T00:00:00\", \"2015-04-15T00:00:00\", \"2015-05-15T00:00:00\", \"2015-06-15T00:00:00\", \"2015-07-15T00:00:00\", \"2015-08-15T00:00:00\", \"2015-09-15T00:00:00\", \"2015-10-15T00:00:00\", \"2015-11-15T00:00:00\", \"2015-12-15T00:00:00\", \"2016-01-15T00:00:00\", \"2016-02-15T00:00:00\", \"2016-03-15T00:00:00\", \"2016-04-15T00:00:00\", \"2016-05-15T00:00:00\", \"2016-06-15T00:00:00\", \"2016-07-15T00:00:00\", \"2016-08-15T00:00:00\", \"2016-09-15T00:00:00\", \"2016-10-15T00:00:00\", \"2016-11-15T00:00:00\", \"2016-12-15T00:00:00\", \"2017-01-15T00:00:00\", \"2017-02-15T00:00:00\", \"2017-03-15T00:00:00\", \"2017-04-15T00:00:00\", \"2017-05-15T00:00:00\", \"2017-06-15T00:00:00\", \"2017-07-15T00:00:00\", \"2017-08-15T00:00:00\", \"2017-09-15T00:00:00\", \"2017-10-15T00:00:00\", \"2017-11-15T00:00:00\", \"2017-12-15T00:00:00\", \"2018-01-15T00:00:00\", \"2018-02-15T00:00:00\", \"2018-03-15T00:00:00\", \"2018-04-15T00:00:00\", \"2018-05-15T00:00:00\", \"2018-06-15T00:00:00\", \"2018-07-15T00:00:00\", \"2018-08-15T00:00:00\", \"2018-09-15T00:00:00\", \"2018-10-15T00:00:00\", \"2018-11-15T00:00:00\", \"2018-12-15T00:00:00\", \"2019-01-15T00:00:00\", \"2019-02-15T00:00:00\", \"2019-03-15T00:00:00\", \"2019-04-15T00:00:00\", \"2019-05-15T00:00:00\", \"2019-06-15T00:00:00\", \"2019-07-15T00:00:00\", \"2019-08-15T00:00:00\", \"2019-09-15T00:00:00\", \"2019-10-15T00:00:00\", \"2019-11-15T00:00:00\", \"2019-12-15T00:00:00\", \"2020-01-15T00:00:00\"], \"y\": [1745, 1760, 1768, 1770, 1768, 1763, 1760, 1757, 1762, 1773, 1790, 1802, 1809, 1810, 1806, 1801, 1799, 1794, 1790, 1793, 1796, 1805, 1820, 1833, 1840, 1845, 1843, 1841, 1845, 1845, 1847, 1854, 1866, 1881, 1901, 1927, 1953, 1976, 1998, 2015, 2027, 2034, 2031, 2039, 2045, 2059, 2100, 2142, 2182, 2204, 2209, 2211, 2210, 2200, 2209, 2227, 2256, 2299, 2343, 2349, 2353, 2365, 2356, 2358, 2373, 2400, 2410, 2423, 2445, 2463, 2479, 2491, 2493, 2478, 2467, 2450, 2443, 2443, 2445, 2453, 2472, 2498, 2520, 2535, 2531, 2518, 2494, 2475, 2454, 2444, 2442, 2440, 2445, 2469, 2493, 2504, 2506, 2503, 2489, 2475, 2457, 2451, 2455, 2463, 2480, 2502, 2523, 2540, 2548, 2545, 2532, 2523, 2515]}],\n",
       "                        {\"template\": {\"data\": {\"bar\": [{\"error_x\": {\"color\": \"#2a3f5f\"}, \"error_y\": {\"color\": \"#2a3f5f\"}, \"marker\": {\"line\": {\"color\": \"#E5ECF6\", \"width\": 0.5}}, \"type\": \"bar\"}], \"barpolar\": [{\"marker\": {\"line\": {\"color\": \"#E5ECF6\", \"width\": 0.5}}, \"type\": \"barpolar\"}], \"carpet\": [{\"aaxis\": {\"endlinecolor\": \"#2a3f5f\", \"gridcolor\": \"white\", \"linecolor\": \"white\", \"minorgridcolor\": \"white\", \"startlinecolor\": \"#2a3f5f\"}, \"baxis\": {\"endlinecolor\": \"#2a3f5f\", \"gridcolor\": \"white\", \"linecolor\": \"white\", \"minorgridcolor\": \"white\", \"startlinecolor\": \"#2a3f5f\"}, \"type\": \"carpet\"}], \"choropleth\": [{\"colorbar\": {\"outlinewidth\": 0, \"ticks\": \"\"}, \"type\": \"choropleth\"}], \"contour\": [{\"colorbar\": {\"outlinewidth\": 0, \"ticks\": \"\"}, \"colorscale\": [[0.0, \"#0d0887\"], [0.1111111111111111, \"#46039f\"], [0.2222222222222222, \"#7201a8\"], [0.3333333333333333, \"#9c179e\"], [0.4444444444444444, \"#bd3786\"], [0.5555555555555556, \"#d8576b\"], [0.6666666666666666, \"#ed7953\"], [0.7777777777777778, \"#fb9f3a\"], [0.8888888888888888, \"#fdca26\"], [1.0, \"#f0f921\"]], \"type\": \"contour\"}], \"contourcarpet\": [{\"colorbar\": {\"outlinewidth\": 0, \"ticks\": \"\"}, \"type\": \"contourcarpet\"}], \"heatmap\": [{\"colorbar\": {\"outlinewidth\": 0, \"ticks\": \"\"}, \"colorscale\": [[0.0, \"#0d0887\"], [0.1111111111111111, \"#46039f\"], [0.2222222222222222, \"#7201a8\"], [0.3333333333333333, \"#9c179e\"], [0.4444444444444444, \"#bd3786\"], [0.5555555555555556, \"#d8576b\"], [0.6666666666666666, \"#ed7953\"], [0.7777777777777778, \"#fb9f3a\"], [0.8888888888888888, \"#fdca26\"], [1.0, \"#f0f921\"]], \"type\": \"heatmap\"}], \"heatmapgl\": [{\"colorbar\": {\"outlinewidth\": 0, \"ticks\": \"\"}, \"colorscale\": [[0.0, \"#0d0887\"], [0.1111111111111111, \"#46039f\"], [0.2222222222222222, \"#7201a8\"], [0.3333333333333333, \"#9c179e\"], [0.4444444444444444, \"#bd3786\"], [0.5555555555555556, \"#d8576b\"], [0.6666666666666666, \"#ed7953\"], [0.7777777777777778, \"#fb9f3a\"], [0.8888888888888888, \"#fdca26\"], [1.0, \"#f0f921\"]], \"type\": \"heatmapgl\"}], \"histogram\": [{\"marker\": {\"colorbar\": {\"outlinewidth\": 0, \"ticks\": \"\"}}, \"type\": \"histogram\"}], \"histogram2d\": [{\"colorbar\": {\"outlinewidth\": 0, \"ticks\": \"\"}, \"colorscale\": [[0.0, \"#0d0887\"], [0.1111111111111111, \"#46039f\"], [0.2222222222222222, \"#7201a8\"], [0.3333333333333333, \"#9c179e\"], [0.4444444444444444, \"#bd3786\"], [0.5555555555555556, \"#d8576b\"], [0.6666666666666666, \"#ed7953\"], [0.7777777777777778, \"#fb9f3a\"], [0.8888888888888888, \"#fdca26\"], [1.0, \"#f0f921\"]], \"type\": \"histogram2d\"}], \"histogram2dcontour\": [{\"colorbar\": {\"outlinewidth\": 0, \"ticks\": \"\"}, \"colorscale\": [[0.0, \"#0d0887\"], [0.1111111111111111, \"#46039f\"], [0.2222222222222222, \"#7201a8\"], [0.3333333333333333, \"#9c179e\"], [0.4444444444444444, \"#bd3786\"], [0.5555555555555556, \"#d8576b\"], [0.6666666666666666, \"#ed7953\"], [0.7777777777777778, \"#fb9f3a\"], [0.8888888888888888, \"#fdca26\"], [1.0, \"#f0f921\"]], \"type\": \"histogram2dcontour\"}], \"mesh3d\": [{\"colorbar\": {\"outlinewidth\": 0, \"ticks\": \"\"}, \"type\": \"mesh3d\"}], \"parcoords\": [{\"line\": {\"colorbar\": {\"outlinewidth\": 0, \"ticks\": \"\"}}, \"type\": \"parcoords\"}], \"scatter\": [{\"marker\": {\"colorbar\": {\"outlinewidth\": 0, \"ticks\": \"\"}}, \"type\": \"scatter\"}], \"scatter3d\": [{\"line\": {\"colorbar\": {\"outlinewidth\": 0, \"ticks\": \"\"}}, \"marker\": {\"colorbar\": {\"outlinewidth\": 0, \"ticks\": \"\"}}, \"type\": \"scatter3d\"}], \"scattercarpet\": [{\"marker\": {\"colorbar\": {\"outlinewidth\": 0, \"ticks\": \"\"}}, \"type\": \"scattercarpet\"}], \"scattergeo\": [{\"marker\": {\"colorbar\": {\"outlinewidth\": 0, \"ticks\": \"\"}}, \"type\": \"scattergeo\"}], \"scattergl\": [{\"marker\": {\"colorbar\": {\"outlinewidth\": 0, \"ticks\": \"\"}}, \"type\": \"scattergl\"}], \"scattermapbox\": [{\"marker\": {\"colorbar\": {\"outlinewidth\": 0, \"ticks\": \"\"}}, \"type\": \"scattermapbox\"}], \"scatterpolar\": [{\"marker\": {\"colorbar\": {\"outlinewidth\": 0, \"ticks\": \"\"}}, \"type\": \"scatterpolar\"}], \"scatterpolargl\": [{\"marker\": {\"colorbar\": {\"outlinewidth\": 0, \"ticks\": \"\"}}, \"type\": \"scatterpolargl\"}], \"scatterternary\": [{\"marker\": {\"colorbar\": {\"outlinewidth\": 0, \"ticks\": \"\"}}, \"type\": \"scatterternary\"}], \"surface\": [{\"colorbar\": {\"outlinewidth\": 0, \"ticks\": \"\"}, \"colorscale\": [[0.0, \"#0d0887\"], [0.1111111111111111, \"#46039f\"], [0.2222222222222222, \"#7201a8\"], [0.3333333333333333, \"#9c179e\"], [0.4444444444444444, \"#bd3786\"], [0.5555555555555556, \"#d8576b\"], [0.6666666666666666, \"#ed7953\"], [0.7777777777777778, \"#fb9f3a\"], [0.8888888888888888, \"#fdca26\"], [1.0, \"#f0f921\"]], \"type\": \"surface\"}], \"table\": [{\"cells\": {\"fill\": {\"color\": \"#EBF0F8\"}, \"line\": {\"color\": \"white\"}}, \"header\": {\"fill\": {\"color\": \"#C8D4E3\"}, \"line\": {\"color\": \"white\"}}, \"type\": \"table\"}]}, \"layout\": {\"annotationdefaults\": {\"arrowcolor\": \"#2a3f5f\", \"arrowhead\": 0, \"arrowwidth\": 1}, \"colorscale\": {\"diverging\": [[0, \"#8e0152\"], [0.1, \"#c51b7d\"], [0.2, \"#de77ae\"], [0.3, \"#f1b6da\"], [0.4, \"#fde0ef\"], [0.5, \"#f7f7f7\"], [0.6, \"#e6f5d0\"], [0.7, \"#b8e186\"], [0.8, \"#7fbc41\"], [0.9, \"#4d9221\"], [1, \"#276419\"]], \"sequential\": [[0.0, \"#0d0887\"], [0.1111111111111111, \"#46039f\"], [0.2222222222222222, \"#7201a8\"], [0.3333333333333333, \"#9c179e\"], [0.4444444444444444, \"#bd3786\"], [0.5555555555555556, \"#d8576b\"], [0.6666666666666666, \"#ed7953\"], [0.7777777777777778, \"#fb9f3a\"], [0.8888888888888888, \"#fdca26\"], [1.0, \"#f0f921\"]], \"sequentialminus\": [[0.0, \"#0d0887\"], [0.1111111111111111, \"#46039f\"], [0.2222222222222222, \"#7201a8\"], [0.3333333333333333, \"#9c179e\"], [0.4444444444444444, \"#bd3786\"], [0.5555555555555556, \"#d8576b\"], [0.6666666666666666, \"#ed7953\"], [0.7777777777777778, \"#fb9f3a\"], [0.8888888888888888, \"#fdca26\"], [1.0, \"#f0f921\"]]}, \"colorway\": [\"#636efa\", \"#EF553B\", \"#00cc96\", \"#ab63fa\", \"#FFA15A\", \"#19d3f3\", \"#FF6692\", \"#B6E880\", \"#FF97FF\", \"#FECB52\"], \"font\": {\"color\": \"#2a3f5f\"}, \"geo\": {\"bgcolor\": \"white\", \"lakecolor\": \"white\", \"landcolor\": \"#E5ECF6\", \"showlakes\": true, \"showland\": true, \"subunitcolor\": \"white\"}, \"hoverlabel\": {\"align\": \"left\"}, \"hovermode\": \"closest\", \"mapbox\": {\"style\": \"light\"}, \"paper_bgcolor\": \"white\", \"plot_bgcolor\": \"#E5ECF6\", \"polar\": {\"angularaxis\": {\"gridcolor\": \"white\", \"linecolor\": \"white\", \"ticks\": \"\"}, \"bgcolor\": \"#E5ECF6\", \"radialaxis\": {\"gridcolor\": \"white\", \"linecolor\": \"white\", \"ticks\": \"\"}}, \"scene\": {\"xaxis\": {\"backgroundcolor\": \"#E5ECF6\", \"gridcolor\": \"white\", \"gridwidth\": 2, \"linecolor\": \"white\", \"showbackground\": true, \"ticks\": \"\", \"zerolinecolor\": \"white\"}, \"yaxis\": {\"backgroundcolor\": \"#E5ECF6\", \"gridcolor\": \"white\", \"gridwidth\": 2, \"linecolor\": \"white\", \"showbackground\": true, \"ticks\": \"\", \"zerolinecolor\": \"white\"}, \"zaxis\": {\"backgroundcolor\": \"#E5ECF6\", \"gridcolor\": \"white\", \"gridwidth\": 2, \"linecolor\": \"white\", \"showbackground\": true, \"ticks\": \"\", \"zerolinecolor\": \"white\"}}, \"shapedefaults\": {\"line\": {\"color\": \"#2a3f5f\"}}, \"ternary\": {\"aaxis\": {\"gridcolor\": \"white\", \"linecolor\": \"white\", \"ticks\": \"\"}, \"baxis\": {\"gridcolor\": \"white\", \"linecolor\": \"white\", \"ticks\": \"\"}, \"bgcolor\": \"#E5ECF6\", \"caxis\": {\"gridcolor\": \"white\", \"linecolor\": \"white\", \"ticks\": \"\"}}, \"title\": {\"x\": 0.05}, \"xaxis\": {\"automargin\": true, \"gridcolor\": \"white\", \"linecolor\": \"white\", \"ticks\": \"\", \"zerolinecolor\": \"white\", \"zerolinewidth\": 2}, \"yaxis\": {\"automargin\": true, \"gridcolor\": \"white\", \"linecolor\": \"white\", \"ticks\": \"\", \"zerolinecolor\": \"white\", \"zerolinewidth\": 2}}}, \"title\": {\"text\": \"Rental income over time\"}, \"xaxis\": {\"rangeselector\": {\"buttons\": [{\"count\": 1, \"label\": \"1m\", \"step\": \"month\", \"stepmode\": \"backward\"}, {\"count\": 6, \"label\": \"6m\", \"step\": \"month\", \"stepmode\": \"backward\"}, {\"count\": 1, \"label\": \"YTD\", \"step\": \"year\", \"stepmode\": \"todate\"}, {\"count\": 1, \"label\": \"1y\", \"step\": \"year\", \"stepmode\": \"backward\"}, {\"step\": \"all\"}]}, \"rangeslider\": {\"visible\": true}, \"type\": \"date\"}},\n",
       "                        {\"responsive\": true}\n",
       "                    ).then(function(){\n",
       "                            \n",
       "var gd = document.getElementById('aff360bb-769c-4379-a5b2-0bf870a5069c');\n",
       "var x = new MutationObserver(function (mutations, observer) {{\n",
       "        var display = window.getComputedStyle(gd).display;\n",
       "        if (!display || display === 'none') {{\n",
       "            console.log([gd, 'removed!']);\n",
       "            Plotly.purge(gd);\n",
       "            observer.disconnect();\n",
       "        }}\n",
       "}});\n",
       "\n",
       "// Listen for the removal of the full notebook cells\n",
       "var notebookContainer = gd.closest('#notebook-container');\n",
       "if (notebookContainer) {{\n",
       "    x.observe(notebookContainer, {childList: true});\n",
       "}}\n",
       "\n",
       "// Listen for the clearing of the current output cell\n",
       "var outputEl = gd.closest('.output');\n",
       "if (outputEl) {{\n",
       "    x.observe(outputEl, {childList: true});\n",
       "}}\n",
       "\n",
       "                        })\n",
       "                };\n",
       "                });\n",
       "            </script>\n",
       "        </div>"
      ]
     },
     "metadata": {},
     "output_type": "display_data"
    }
   ],
   "source": [
    "import plotly.graph_objects as go\n",
    "\n",
    "import pandas as pd\n",
    "\n",
    "\n",
    "df_rental_value.columns = [col.replace(\"NaN.\", \"\") for col in df_rental_value.columns]\n",
    "\n",
    "# Create figure\n",
    "fig = go.Figure()\n",
    "\n",
    "fig.add_trace(\n",
    "    go.Scatter(x=list(df_rental_value.Month), y=list(df_rental_value.Price)))\n",
    "\n",
    "# Set title\n",
    "fig.update_layout(\n",
    "    title_text=\"Rental income over time\"\n",
    ")\n",
    "\n",
    "# Add range slider\n",
    "fig.update_layout(\n",
    "    xaxis=dict(\n",
    "        rangeselector=dict(\n",
    "            buttons=list([\n",
    "                dict(count=1,\n",
    "                     label=\"1m\",\n",
    "                     step=\"month\",\n",
    "                     stepmode=\"backward\"),\n",
    "                dict(count=6,\n",
    "                     label=\"6m\",\n",
    "                     step=\"month\",\n",
    "                     stepmode=\"backward\"),\n",
    "                dict(count=1,\n",
    "                     label=\"YTD\",\n",
    "                     step=\"year\",\n",
    "                     stepmode=\"todate\"),\n",
    "                dict(count=1,\n",
    "                     label=\"1y\",\n",
    "                     step=\"year\",\n",
    "                     stepmode=\"backward\"),\n",
    "                dict(step=\"all\")\n",
    "            ])\n",
    "        ),\n",
    "        rangeslider=dict(\n",
    "            visible=True\n",
    "        ),\n",
    "        type=\"date\"\n",
    "    )\n",
    ")\n",
    "\n",
    "fig.show()"
   ]
  },
  {
   "cell_type": "markdown",
   "metadata": {},
   "source": [
    "# if choosing to rent out than sell, property taxes are low\n"
   ]
  },
  {
   "cell_type": "code",
   "execution_count": 109,
   "metadata": {},
   "outputs": [
    {
     "data": {
      "text/html": [
       "<div>\n",
       "<style scoped>\n",
       "    .dataframe tbody tr th:only-of-type {\n",
       "        vertical-align: middle;\n",
       "    }\n",
       "\n",
       "    .dataframe tbody tr th {\n",
       "        vertical-align: top;\n",
       "    }\n",
       "\n",
       "    .dataframe thead th {\n",
       "        text-align: right;\n",
       "    }\n",
       "</style>\n",
       "<table border=\"1\" class=\"dataframe\">\n",
       "  <thead>\n",
       "    <tr style=\"text-align: right;\">\n",
       "      <th></th>\n",
       "      <th>ID Real Estate Taxes Paid</th>\n",
       "      <th>Real Estate Taxes Paid</th>\n",
       "      <th>ID Year</th>\n",
       "      <th>Year</th>\n",
       "      <th>Real Estate Taxes by Mortgage</th>\n",
       "      <th>Real Estate Taxes by Mortgage Moe</th>\n",
       "      <th>Geography</th>\n",
       "      <th>ID Geography</th>\n",
       "      <th>Slug Geography</th>\n",
       "      <th>share</th>\n",
       "    </tr>\n",
       "  </thead>\n",
       "  <tbody>\n",
       "    <tr>\n",
       "      <td>0</td>\n",
       "      <td>1</td>\n",
       "      <td>$800 to $1,499</td>\n",
       "      <td>2018</td>\n",
       "      <td>2018</td>\n",
       "      <td>12464</td>\n",
       "      <td>1566.098975</td>\n",
       "      <td>King County, WA</td>\n",
       "      <td>05000US53033</td>\n",
       "      <td>king-county-wa</td>\n",
       "      <td>0.024818</td>\n",
       "    </tr>\n",
       "    <tr>\n",
       "      <td>1</td>\n",
       "      <td>5</td>\n",
       "      <td>No Real Estate Taxes Paid</td>\n",
       "      <td>2018</td>\n",
       "      <td>2018</td>\n",
       "      <td>8285</td>\n",
       "      <td>1336.400015</td>\n",
       "      <td>King County, WA</td>\n",
       "      <td>05000US53033</td>\n",
       "      <td>king-county-wa</td>\n",
       "      <td>0.016497</td>\n",
       "    </tr>\n",
       "    <tr>\n",
       "      <td>2</td>\n",
       "      <td>0</td>\n",
       "      <td>Less Than $800</td>\n",
       "      <td>2018</td>\n",
       "      <td>2018</td>\n",
       "      <td>10920375</td>\n",
       "      <td>55918.756969</td>\n",
       "      <td>United States</td>\n",
       "      <td>01000US</td>\n",
       "      <td>united-states</td>\n",
       "      <td>0.140530</td>\n",
       "    </tr>\n",
       "    <tr>\n",
       "      <td>3</td>\n",
       "      <td>3</td>\n",
       "      <td>$2,000 to $2,999</td>\n",
       "      <td>2018</td>\n",
       "      <td>2018</td>\n",
       "      <td>38030</td>\n",
       "      <td>2993.329250</td>\n",
       "      <td>King County, WA</td>\n",
       "      <td>05000US53033</td>\n",
       "      <td>king-county-wa</td>\n",
       "      <td>0.075725</td>\n",
       "    </tr>\n",
       "    <tr>\n",
       "      <td>4</td>\n",
       "      <td>1</td>\n",
       "      <td>$800 to $1,499</td>\n",
       "      <td>2018</td>\n",
       "      <td>2018</td>\n",
       "      <td>12785402</td>\n",
       "      <td>66415.014462</td>\n",
       "      <td>United States</td>\n",
       "      <td>01000US</td>\n",
       "      <td>united-states</td>\n",
       "      <td>0.164531</td>\n",
       "    </tr>\n",
       "  </tbody>\n",
       "</table>\n",
       "</div>"
      ],
      "text/plain": [
       "   ID Real Estate Taxes Paid     Real Estate Taxes Paid  ID Year  Year  \\\n",
       "0                          1             $800 to $1,499     2018  2018   \n",
       "1                          5  No Real Estate Taxes Paid     2018  2018   \n",
       "2                          0             Less Than $800     2018  2018   \n",
       "3                          3           $2,000 to $2,999     2018  2018   \n",
       "4                          1             $800 to $1,499     2018  2018   \n",
       "\n",
       "   Real Estate Taxes by Mortgage  Real Estate Taxes by Mortgage Moe  \\\n",
       "0                          12464                        1566.098975   \n",
       "1                           8285                        1336.400015   \n",
       "2                       10920375                       55918.756969   \n",
       "3                          38030                        2993.329250   \n",
       "4                       12785402                       66415.014462   \n",
       "\n",
       "         Geography  ID Geography  Slug Geography     share  \n",
       "0  King County, WA  05000US53033  king-county-wa  0.024818  \n",
       "1  King County, WA  05000US53033  king-county-wa  0.016497  \n",
       "2    United States       01000US   united-states  0.140530  \n",
       "3  King County, WA  05000US53033  king-county-wa  0.075725  \n",
       "4    United States       01000US   united-states  0.164531  "
      ]
     },
     "execution_count": 109,
     "metadata": {},
     "output_type": "execute_result"
    }
   ],
   "source": [
    "df_property_taxes.head()"
   ]
  },
  {
   "cell_type": "code",
   "execution_count": null,
   "metadata": {},
   "outputs": [],
   "source": []
  },
  {
   "cell_type": "code",
   "execution_count": null,
   "metadata": {},
   "outputs": [],
   "source": []
  },
  {
   "cell_type": "code",
   "execution_count": null,
   "metadata": {},
   "outputs": [],
   "source": []
  }
 ],
 "metadata": {
  "kernelspec": {
   "display_name": "Python 3",
   "language": "python",
   "name": "python3"
  },
  "language_info": {
   "codemirror_mode": {
    "name": "ipython",
    "version": 3
   },
   "file_extension": ".py",
   "mimetype": "text/x-python",
   "name": "python",
   "nbconvert_exporter": "python",
   "pygments_lexer": "ipython3",
   "version": "3.6.9"
  }
 },
 "nbformat": 4,
 "nbformat_minor": 2
}
