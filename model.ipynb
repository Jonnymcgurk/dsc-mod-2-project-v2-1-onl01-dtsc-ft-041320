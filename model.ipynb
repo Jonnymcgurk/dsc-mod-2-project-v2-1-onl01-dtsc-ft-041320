{
 "cells": [
  {
   "cell_type": "code",
   "execution_count": 40,
   "metadata": {},
   "outputs": [],
   "source": [
    "import numpy as np # NumPy is the fundamental package for scientific computing\n",
    "\n",
    "import pandas as pd # Pandas is an easy-to-use data structures and data analysis tools\n",
    "pd.set_option('display.max_columns', None) # To display all columns\n",
    "\n",
    "import matplotlib.pyplot as plt # Matplotlib is a python 2D plotting library\n",
    "%matplotlib inline \n",
    "# A magic command that tells matplotlib to render figures as static images in the Notebook.\n",
    "\n",
    "import seaborn as sns # Seaborn is a visualization library based on matplotlib (attractive statistical graphics).\n",
    "sns.set_style('whitegrid') # One of the five seaborn themes\n",
    "import warnings\n",
    "warnings.filterwarnings('ignore') # To ignore some of seaborn warning msg\n",
    "\n",
    "from scipy import stats\n",
    "\n",
    "from sklearn import linear_model # Scikit learn library that implements generalized linear models\n",
    "from sklearn import neighbors # provides functionality for unsupervised and supervised neighbors-based learning methods\n",
    "from sklearn.metrics import mean_squared_error # Mean squared error regression loss\n",
    "from sklearn import preprocessing # provides functions and classes to change raw feature vectors\n",
    "\n",
    "from math import log"
   ]
  },
  {
   "cell_type": "code",
   "execution_count": 41,
   "metadata": {
    "scrolled": true
   },
   "outputs": [
    {
     "data": {
      "text/html": [
       "<div>\n",
       "<style scoped>\n",
       "    .dataframe tbody tr th:only-of-type {\n",
       "        vertical-align: middle;\n",
       "    }\n",
       "\n",
       "    .dataframe tbody tr th {\n",
       "        vertical-align: top;\n",
       "    }\n",
       "\n",
       "    .dataframe thead th {\n",
       "        text-align: right;\n",
       "    }\n",
       "</style>\n",
       "<table border=\"1\" class=\"dataframe\">\n",
       "  <thead>\n",
       "    <tr style=\"text-align: right;\">\n",
       "      <th></th>\n",
       "      <th>id</th>\n",
       "      <th>date</th>\n",
       "      <th>price</th>\n",
       "      <th>bedrooms</th>\n",
       "      <th>bathrooms</th>\n",
       "      <th>sqft_living</th>\n",
       "      <th>sqft_lot</th>\n",
       "      <th>floors</th>\n",
       "      <th>waterfront</th>\n",
       "      <th>view</th>\n",
       "      <th>condition</th>\n",
       "      <th>grade</th>\n",
       "      <th>sqft_above</th>\n",
       "      <th>sqft_basement</th>\n",
       "      <th>yr_built</th>\n",
       "      <th>yr_renovated</th>\n",
       "      <th>zipcode</th>\n",
       "      <th>lat</th>\n",
       "      <th>long</th>\n",
       "      <th>sqft_living15</th>\n",
       "      <th>sqft_lot15</th>\n",
       "    </tr>\n",
       "  </thead>\n",
       "  <tbody>\n",
       "    <tr>\n",
       "      <td>0</td>\n",
       "      <td>7129300520</td>\n",
       "      <td>2014-10-13</td>\n",
       "      <td>221900.0</td>\n",
       "      <td>3</td>\n",
       "      <td>1.00</td>\n",
       "      <td>1180</td>\n",
       "      <td>5650</td>\n",
       "      <td>1.0</td>\n",
       "      <td>NaN</td>\n",
       "      <td>0.0</td>\n",
       "      <td>3</td>\n",
       "      <td>7</td>\n",
       "      <td>1180</td>\n",
       "      <td>0.0</td>\n",
       "      <td>1955</td>\n",
       "      <td>0.0</td>\n",
       "      <td>98178</td>\n",
       "      <td>47.5112</td>\n",
       "      <td>-122.257</td>\n",
       "      <td>1340</td>\n",
       "      <td>5650</td>\n",
       "    </tr>\n",
       "    <tr>\n",
       "      <td>1</td>\n",
       "      <td>6414100192</td>\n",
       "      <td>2014-12-09</td>\n",
       "      <td>538000.0</td>\n",
       "      <td>3</td>\n",
       "      <td>2.25</td>\n",
       "      <td>2570</td>\n",
       "      <td>7242</td>\n",
       "      <td>2.0</td>\n",
       "      <td>0.0</td>\n",
       "      <td>0.0</td>\n",
       "      <td>3</td>\n",
       "      <td>7</td>\n",
       "      <td>2170</td>\n",
       "      <td>400.0</td>\n",
       "      <td>1951</td>\n",
       "      <td>1991.0</td>\n",
       "      <td>98125</td>\n",
       "      <td>47.7210</td>\n",
       "      <td>-122.319</td>\n",
       "      <td>1690</td>\n",
       "      <td>7639</td>\n",
       "    </tr>\n",
       "    <tr>\n",
       "      <td>2</td>\n",
       "      <td>5631500400</td>\n",
       "      <td>2015-02-25</td>\n",
       "      <td>180000.0</td>\n",
       "      <td>2</td>\n",
       "      <td>1.00</td>\n",
       "      <td>770</td>\n",
       "      <td>10000</td>\n",
       "      <td>1.0</td>\n",
       "      <td>0.0</td>\n",
       "      <td>0.0</td>\n",
       "      <td>3</td>\n",
       "      <td>6</td>\n",
       "      <td>770</td>\n",
       "      <td>0.0</td>\n",
       "      <td>1933</td>\n",
       "      <td>NaN</td>\n",
       "      <td>98028</td>\n",
       "      <td>47.7379</td>\n",
       "      <td>-122.233</td>\n",
       "      <td>2720</td>\n",
       "      <td>8062</td>\n",
       "    </tr>\n",
       "    <tr>\n",
       "      <td>3</td>\n",
       "      <td>2487200875</td>\n",
       "      <td>2014-12-09</td>\n",
       "      <td>604000.0</td>\n",
       "      <td>4</td>\n",
       "      <td>3.00</td>\n",
       "      <td>1960</td>\n",
       "      <td>5000</td>\n",
       "      <td>1.0</td>\n",
       "      <td>0.0</td>\n",
       "      <td>0.0</td>\n",
       "      <td>5</td>\n",
       "      <td>7</td>\n",
       "      <td>1050</td>\n",
       "      <td>910.0</td>\n",
       "      <td>1965</td>\n",
       "      <td>0.0</td>\n",
       "      <td>98136</td>\n",
       "      <td>47.5208</td>\n",
       "      <td>-122.393</td>\n",
       "      <td>1360</td>\n",
       "      <td>5000</td>\n",
       "    </tr>\n",
       "    <tr>\n",
       "      <td>4</td>\n",
       "      <td>1954400510</td>\n",
       "      <td>2015-02-18</td>\n",
       "      <td>510000.0</td>\n",
       "      <td>3</td>\n",
       "      <td>2.00</td>\n",
       "      <td>1680</td>\n",
       "      <td>8080</td>\n",
       "      <td>1.0</td>\n",
       "      <td>0.0</td>\n",
       "      <td>0.0</td>\n",
       "      <td>3</td>\n",
       "      <td>8</td>\n",
       "      <td>1680</td>\n",
       "      <td>0.0</td>\n",
       "      <td>1987</td>\n",
       "      <td>0.0</td>\n",
       "      <td>98074</td>\n",
       "      <td>47.6168</td>\n",
       "      <td>-122.045</td>\n",
       "      <td>1800</td>\n",
       "      <td>7503</td>\n",
       "    </tr>\n",
       "  </tbody>\n",
       "</table>\n",
       "</div>"
      ],
      "text/plain": [
       "           id       date     price  bedrooms  bathrooms  sqft_living  \\\n",
       "0  7129300520 2014-10-13  221900.0         3       1.00         1180   \n",
       "1  6414100192 2014-12-09  538000.0         3       2.25         2570   \n",
       "2  5631500400 2015-02-25  180000.0         2       1.00          770   \n",
       "3  2487200875 2014-12-09  604000.0         4       3.00         1960   \n",
       "4  1954400510 2015-02-18  510000.0         3       2.00         1680   \n",
       "\n",
       "   sqft_lot  floors  waterfront  view  condition  grade  sqft_above  \\\n",
       "0      5650     1.0         NaN   0.0          3      7        1180   \n",
       "1      7242     2.0         0.0   0.0          3      7        2170   \n",
       "2     10000     1.0         0.0   0.0          3      6         770   \n",
       "3      5000     1.0         0.0   0.0          5      7        1050   \n",
       "4      8080     1.0         0.0   0.0          3      8        1680   \n",
       "\n",
       "  sqft_basement  yr_built  yr_renovated  zipcode      lat     long  \\\n",
       "0           0.0      1955           0.0    98178  47.5112 -122.257   \n",
       "1         400.0      1951        1991.0    98125  47.7210 -122.319   \n",
       "2           0.0      1933           NaN    98028  47.7379 -122.233   \n",
       "3         910.0      1965           0.0    98136  47.5208 -122.393   \n",
       "4           0.0      1987           0.0    98074  47.6168 -122.045   \n",
       "\n",
       "   sqft_living15  sqft_lot15  \n",
       "0           1340        5650  \n",
       "1           1690        7639  \n",
       "2           2720        8062  \n",
       "3           1360        5000  \n",
       "4           1800        7503  "
      ]
     },
     "execution_count": 41,
     "metadata": {},
     "output_type": "execute_result"
    }
   ],
   "source": [
    "data = pd.read_csv(\"kc_house_data.csv\", parse_dates = ['date']) \n",
    "data.head(5) "
   ]
  },
  {
   "cell_type": "code",
   "execution_count": 74,
   "metadata": {},
   "outputs": [
    {
     "name": "stdout",
     "output_type": "stream",
     "text": [
      "<class 'pandas.core.frame.DataFrame'>\n",
      "RangeIndex: 21597 entries, 0 to 21596\n",
      "Data columns (total 20 columns):\n",
      "price            21597 non-null float64\n",
      "bedrooms         21597 non-null int64\n",
      "bathrooms        21597 non-null float64\n",
      "sqft_living      21597 non-null int64\n",
      "sqft_lot         21597 non-null int64\n",
      "floors           21597 non-null float64\n",
      "waterfront       21596 non-null float64\n",
      "view             21597 non-null float64\n",
      "condition        21597 non-null int64\n",
      "grade            21597 non-null int64\n",
      "sqft_above       21597 non-null int64\n",
      "sqft_basement    21597 non-null object\n",
      "yr_built         21597 non-null int64\n",
      "yr_renovated     21597 non-null float64\n",
      "zipcode          21597 non-null int64\n",
      "lat              21597 non-null float64\n",
      "long             21597 non-null float64\n",
      "sqft_living15    21597 non-null int64\n",
      "sqft_lot15       21597 non-null int64\n",
      "renovated        21597 non-null int64\n",
      "dtypes: float64(8), int64(11), object(1)\n",
      "memory usage: 3.3+ MB\n"
     ]
    }
   ],
   "source": [
    "data.info()"
   ]
  },
  {
   "cell_type": "code",
   "execution_count": 75,
   "metadata": {},
   "outputs": [
    {
     "data": {
      "text/plain": [
       "price            540296.573506\n",
       "bedrooms              3.373200\n",
       "bathrooms             2.115826\n",
       "sqft_living        2080.321850\n",
       "sqft_lot          15099.408760\n",
       "floors                1.494096\n",
       "waterfront            0.007316\n",
       "view                  0.234384\n",
       "condition             3.409825\n",
       "grade                 7.657915\n",
       "sqft_above         1788.596842\n",
       "yr_built           1970.999676\n",
       "yr_renovated         83.822336\n",
       "zipcode           98077.951845\n",
       "lat                  47.560093\n",
       "long               -122.213982\n",
       "sqft_living15      1986.620318\n",
       "sqft_lot15        12758.283512\n",
       "renovated             0.034449\n",
       "dtype: float64"
      ]
     },
     "execution_count": 75,
     "metadata": {},
     "output_type": "execute_result"
    }
   ],
   "source": [
    "data.mean()"
   ]
  },
  {
   "cell_type": "code",
   "execution_count": 42,
   "metadata": {},
   "outputs": [],
   "source": [
    "data.drop(['id', 'date'], axis = 1, inplace = True)"
   ]
  },
  {
   "cell_type": "code",
   "execution_count": 43,
   "metadata": {},
   "outputs": [
    {
     "data": {
      "text/plain": [
       "0        0\n",
       "1        1\n",
       "2        0\n",
       "3        0\n",
       "4        0\n",
       "        ..\n",
       "21592    0\n",
       "21593    0\n",
       "21594    0\n",
       "21595    0\n",
       "21596    0\n",
       "Name: renovated, Length: 21597, dtype: int64"
      ]
     },
     "execution_count": 43,
     "metadata": {},
     "output_type": "execute_result"
    }
   ],
   "source": [
    "# 1 if the house has been renovated\n",
    "\n",
    "data['yr_renovated'] = pd.to_numeric(data['yr_renovated'])\n",
    "data['renovated'] = data['yr_renovated'].apply(lambda x: 1 if x > 0 else 0) \n",
    "data['renovated']"
   ]
  },
  {
   "cell_type": "code",
   "execution_count": 44,
   "metadata": {},
   "outputs": [
    {
     "ename": "SyntaxError",
     "evalue": "unexpected EOF while parsing (<ipython-input-44-cf1f9294a2aa>, line 9)",
     "output_type": "error",
     "traceback": [
      "\u001b[0;36m  File \u001b[0;32m\"<ipython-input-44-cf1f9294a2aa>\"\u001b[0;36m, line \u001b[0;32m9\u001b[0m\n\u001b[0;31m    #data['basement_present'] = data['sqft_basement'].apply(lambda x: 1 if x > 0 else 0)\u001b[0m\n\u001b[0m                                                                                         ^\u001b[0m\n\u001b[0;31mSyntaxError\u001b[0m\u001b[0;31m:\u001b[0m unexpected EOF while parsing\n"
     ]
    }
   ],
   "source": [
    "from decimal import Decimal\n",
    "int(Decimal('0.00')\n",
    "    \n",
    "#data['sqft_basement'] = pd.to_numeric(data['sqft_basement'])\n",
    "    \n",
    "#data['sqft_basement'] = data['sqft_basement'].astype(int)\n",
    "\n",
    "\n",
    "#data['basement_present'] = data['sqft_basement'].apply(lambda x: 1 if x > 0 else 0) "
   ]
  },
  {
   "cell_type": "code",
   "execution_count": 45,
   "metadata": {},
   "outputs": [
    {
     "data": {
      "text/plain": [
       "price            False\n",
       "bedrooms         False\n",
       "bathrooms        False\n",
       "sqft_living      False\n",
       "sqft_lot         False\n",
       "floors           False\n",
       "waterfront        True\n",
       "view              True\n",
       "condition        False\n",
       "grade            False\n",
       "sqft_above       False\n",
       "sqft_basement    False\n",
       "yr_built         False\n",
       "yr_renovated      True\n",
       "zipcode          False\n",
       "lat              False\n",
       "long             False\n",
       "sqft_living15    False\n",
       "sqft_lot15       False\n",
       "renovated        False\n",
       "dtype: bool"
      ]
     },
     "execution_count": 45,
     "metadata": {},
     "output_type": "execute_result"
    }
   ],
   "source": [
    "data.isnull().any()\n"
   ]
  },
  {
   "cell_type": "code",
   "execution_count": 46,
   "metadata": {},
   "outputs": [],
   "source": [
    "data = data.fillna(method='ffill')"
   ]
  },
  {
   "cell_type": "code",
   "execution_count": 77,
   "metadata": {},
   "outputs": [],
   "source": [
    "X = data[['bedrooms', 'grade', 'sqft_living', 'floors']]\n",
    "y = data['price']"
   ]
  },
  {
   "cell_type": "code",
   "execution_count": 78,
   "metadata": {},
   "outputs": [
    {
     "data": {
      "text/plain": [
       "<matplotlib.axes._subplots.AxesSubplot at 0x1a1b67f6a0>"
      ]
     },
     "execution_count": 78,
     "metadata": {},
     "output_type": "execute_result"
    },
    {
     "data": {
      "image/png": "[encoded data removed]",
      "text/plain": [
       "<Figure size 1080x720 with 1 Axes>"
      ]
     },
     "metadata": {},
     "output_type": "display_data"
    }
   ],
   "source": [
    "plt.figure(figsize=(15,10))\n",
    "plt.tight_layout()\n",
    "sns.distplot(data['price'])"
   ]
  },
  {
   "cell_type": "code",
   "execution_count": 79,
   "metadata": {},
   "outputs": [],
   "source": [
    "from sklearn.model_selection import train_test_split\n",
    "\n",
    "X_train, X_test, y_train, y_test = train_test_split(X, y, test_size=0.2, random_state=0)\n",
    "\n"
   ]
  },
  {
   "cell_type": "code",
   "execution_count": 80,
   "metadata": {},
   "outputs": [
    {
     "data": {
      "text/plain": [
       "LinearRegression(copy_X=True, fit_intercept=True, n_jobs=None, normalize=False)"
      ]
     },
     "execution_count": 80,
     "metadata": {},
     "output_type": "execute_result"
    }
   ],
   "source": [
    "from sklearn.linear_model import LinearRegression\n",
    "\n",
    "regressor = LinearRegression()  \n",
    "regressor.fit(X_train, y_train)"
   ]
  },
  {
   "cell_type": "code",
   "execution_count": 81,
   "metadata": {},
   "outputs": [
    {
     "data": {
      "text/html": [
       "<div>\n",
       "<style scoped>\n",
       "    .dataframe tbody tr th:only-of-type {\n",
       "        vertical-align: middle;\n",
       "    }\n",
       "\n",
       "    .dataframe tbody tr th {\n",
       "        vertical-align: top;\n",
       "    }\n",
       "\n",
       "    .dataframe thead th {\n",
       "        text-align: right;\n",
       "    }\n",
       "</style>\n",
       "<table border=\"1\" class=\"dataframe\">\n",
       "  <thead>\n",
       "    <tr style=\"text-align: right;\">\n",
       "      <th></th>\n",
       "      <th>Coefficient</th>\n",
       "    </tr>\n",
       "  </thead>\n",
       "  <tbody>\n",
       "    <tr>\n",
       "      <td>bedrooms</td>\n",
       "      <td>-42426.287298</td>\n",
       "    </tr>\n",
       "    <tr>\n",
       "      <td>grade</td>\n",
       "      <td>100842.514903</td>\n",
       "    </tr>\n",
       "    <tr>\n",
       "      <td>sqft_living</td>\n",
       "      <td>221.595440</td>\n",
       "    </tr>\n",
       "    <tr>\n",
       "      <td>floors</td>\n",
       "      <td>-46368.448518</td>\n",
       "    </tr>\n",
       "  </tbody>\n",
       "</table>\n",
       "</div>"
      ],
      "text/plain": [
       "               Coefficient\n",
       "bedrooms     -42426.287298\n",
       "grade        100842.514903\n",
       "sqft_living     221.595440\n",
       "floors       -46368.448518"
      ]
     },
     "execution_count": 81,
     "metadata": {},
     "output_type": "execute_result"
    }
   ],
   "source": [
    "\n",
    "coeff_df = pd.DataFrame(regressor.coef_, X.columns,columns=['Coefficient'])  \n",
    "coeff_df"
   ]
  },
  {
   "cell_type": "code",
   "execution_count": 82,
   "metadata": {},
   "outputs": [],
   "source": [
    "y_pred = regressor.predict(X_test)\n"
   ]
  },
  {
   "cell_type": "code",
   "execution_count": 83,
   "metadata": {},
   "outputs": [
    {
     "data": {
      "text/html": [
       "<div>\n",
       "<style scoped>\n",
       "    .dataframe tbody tr th:only-of-type {\n",
       "        vertical-align: middle;\n",
       "    }\n",
       "\n",
       "    .dataframe tbody tr th {\n",
       "        vertical-align: top;\n",
       "    }\n",
       "\n",
       "    .dataframe thead th {\n",
       "        text-align: right;\n",
       "    }\n",
       "</style>\n",
       "<table border=\"1\" class=\"dataframe\">\n",
       "  <thead>\n",
       "    <tr style=\"text-align: right;\">\n",
       "      <th></th>\n",
       "      <th>Actual</th>\n",
       "      <th>Predicted</th>\n",
       "    </tr>\n",
       "  </thead>\n",
       "  <tbody>\n",
       "    <tr>\n",
       "      <td>156</td>\n",
       "      <td>650000.0</td>\n",
       "      <td>1.000594e+06</td>\n",
       "    </tr>\n",
       "    <tr>\n",
       "      <td>15572</td>\n",
       "      <td>625000.0</td>\n",
       "      <td>5.697304e+05</td>\n",
       "    </tr>\n",
       "    <tr>\n",
       "      <td>2080</td>\n",
       "      <td>822500.0</td>\n",
       "      <td>9.935006e+05</td>\n",
       "    </tr>\n",
       "    <tr>\n",
       "      <td>17522</td>\n",
       "      <td>179900.0</td>\n",
       "      <td>2.243315e+05</td>\n",
       "    </tr>\n",
       "    <tr>\n",
       "      <td>8360</td>\n",
       "      <td>370000.0</td>\n",
       "      <td>9.098960e+05</td>\n",
       "    </tr>\n",
       "    <tr>\n",
       "      <td>12832</td>\n",
       "      <td>737000.0</td>\n",
       "      <td>7.175977e+05</td>\n",
       "    </tr>\n",
       "    <tr>\n",
       "      <td>17280</td>\n",
       "      <td>515500.0</td>\n",
       "      <td>6.917745e+05</td>\n",
       "    </tr>\n",
       "    <tr>\n",
       "      <td>7583</td>\n",
       "      <td>390000.0</td>\n",
       "      <td>2.688172e+05</td>\n",
       "    </tr>\n",
       "    <tr>\n",
       "      <td>19963</td>\n",
       "      <td>447055.0</td>\n",
       "      <td>7.079675e+05</td>\n",
       "    </tr>\n",
       "    <tr>\n",
       "      <td>1754</td>\n",
       "      <td>850000.0</td>\n",
       "      <td>9.839905e+05</td>\n",
       "    </tr>\n",
       "    <tr>\n",
       "      <td>19037</td>\n",
       "      <td>287500.0</td>\n",
       "      <td>2.805318e+05</td>\n",
       "    </tr>\n",
       "    <tr>\n",
       "      <td>13058</td>\n",
       "      <td>2250000.0</td>\n",
       "      <td>1.012153e+06</td>\n",
       "    </tr>\n",
       "    <tr>\n",
       "      <td>18841</td>\n",
       "      <td>269500.0</td>\n",
       "      <td>2.002792e+05</td>\n",
       "    </tr>\n",
       "    <tr>\n",
       "      <td>14520</td>\n",
       "      <td>760000.0</td>\n",
       "      <td>8.568797e+05</td>\n",
       "    </tr>\n",
       "    <tr>\n",
       "      <td>9069</td>\n",
       "      <td>351000.0</td>\n",
       "      <td>2.528157e+05</td>\n",
       "    </tr>\n",
       "    <tr>\n",
       "      <td>1783</td>\n",
       "      <td>285000.0</td>\n",
       "      <td>4.866155e+05</td>\n",
       "    </tr>\n",
       "    <tr>\n",
       "      <td>20774</td>\n",
       "      <td>425996.0</td>\n",
       "      <td>7.345590e+05</td>\n",
       "    </tr>\n",
       "    <tr>\n",
       "      <td>8126</td>\n",
       "      <td>170000.0</td>\n",
       "      <td>4.214497e+04</td>\n",
       "    </tr>\n",
       "    <tr>\n",
       "      <td>21306</td>\n",
       "      <td>834950.0</td>\n",
       "      <td>9.274671e+05</td>\n",
       "    </tr>\n",
       "    <tr>\n",
       "      <td>12158</td>\n",
       "      <td>219950.0</td>\n",
       "      <td>2.875028e+05</td>\n",
       "    </tr>\n",
       "    <tr>\n",
       "      <td>4545</td>\n",
       "      <td>197500.0</td>\n",
       "      <td>3.009651e+05</td>\n",
       "    </tr>\n",
       "    <tr>\n",
       "      <td>10397</td>\n",
       "      <td>185000.0</td>\n",
       "      <td>1.960691e+05</td>\n",
       "    </tr>\n",
       "    <tr>\n",
       "      <td>10501</td>\n",
       "      <td>715000.0</td>\n",
       "      <td>8.823798e+05</td>\n",
       "    </tr>\n",
       "    <tr>\n",
       "      <td>16937</td>\n",
       "      <td>1230000.0</td>\n",
       "      <td>8.853639e+05</td>\n",
       "    </tr>\n",
       "    <tr>\n",
       "      <td>12536</td>\n",
       "      <td>442500.0</td>\n",
       "      <td>6.299510e+05</td>\n",
       "    </tr>\n",
       "  </tbody>\n",
       "</table>\n",
       "</div>"
      ],
      "text/plain": [
       "          Actual     Predicted\n",
       "156     650000.0  1.000594e+06\n",
       "15572   625000.0  5.697304e+05\n",
       "2080    822500.0  9.935006e+05\n",
       "17522   179900.0  2.243315e+05\n",
       "8360    370000.0  9.098960e+05\n",
       "12832   737000.0  7.175977e+05\n",
       "17280   515500.0  6.917745e+05\n",
       "7583    390000.0  2.688172e+05\n",
       "19963   447055.0  7.079675e+05\n",
       "1754    850000.0  9.839905e+05\n",
       "19037   287500.0  2.805318e+05\n",
       "13058  2250000.0  1.012153e+06\n",
       "18841   269500.0  2.002792e+05\n",
       "14520   760000.0  8.568797e+05\n",
       "9069    351000.0  2.528157e+05\n",
       "1783    285000.0  4.866155e+05\n",
       "20774   425996.0  7.345590e+05\n",
       "8126    170000.0  4.214497e+04\n",
       "21306   834950.0  9.274671e+05\n",
       "12158   219950.0  2.875028e+05\n",
       "4545    197500.0  3.009651e+05\n",
       "10397   185000.0  1.960691e+05\n",
       "10501   715000.0  8.823798e+05\n",
       "16937  1230000.0  8.853639e+05\n",
       "12536   442500.0  6.299510e+05"
      ]
     },
     "execution_count": 83,
     "metadata": {},
     "output_type": "execute_result"
    }
   ],
   "source": [
    "df = pd.DataFrame({'Actual': y_test, 'Predicted': y_pred})\n",
    "df1 = df.head(25)\n",
    "df1"
   ]
  },
  {
   "cell_type": "code",
   "execution_count": 84,
   "metadata": {},
   "outputs": [
    {
     "data": {
      "image/png": "[encoded data removed]",
      "text/plain": [
       "<Figure size 720x576 with 1 Axes>"
      ]
     },
     "metadata": {},
     "output_type": "display_data"
    }
   ],
   "source": [
    "df1.plot(kind='bar',figsize=(10,8))\n",
    "plt.grid(which='major', linestyle='-', linewidth='0.5', color='green')\n",
    "plt.grid(which='minor', linestyle=':', linewidth='0.5', color='black')\n",
    "plt.show()"
   ]
  },
  {
   "cell_type": "code",
   "execution_count": 85,
   "metadata": {},
   "outputs": [
    {
     "name": "stdout",
     "output_type": "stream",
     "text": [
      "Mean Absolute Error: 160455.18443584535\n",
      "Mean Squared Error: 55185306680.734436\n",
      "Root Mean Squared Error: 234915.53094832713\n"
     ]
    }
   ],
   "source": [
    "\n",
    "\n",
    "from sklearn import metrics\n",
    "\n",
    "print('Mean Absolute Error:', metrics.mean_absolute_error(y_test, y_pred))  \n",
    "print('Mean Squared Error:', metrics.mean_squared_error(y_test, y_pred))  \n",
    "print('Root Mean Squared Error:', np.sqrt(metrics.mean_squared_error(y_test, y_pred)))"
   ]
  },
  {
   "cell_type": "code",
   "execution_count": null,
   "metadata": {},
   "outputs": [],
   "source": []
  }
 ],
 "metadata": {
  "kernelspec": {
   "display_name": "Python 3",
   "language": "python",
   "name": "python3"
  },
  "language_info": {
   "codemirror_mode": {
    "name": "ipython",
    "version": 3
   },
   "file_extension": ".py",
   "mimetype": "text/x-python",
   "name": "python",
   "nbconvert_exporter": "python",
   "pygments_lexer": "ipython3",
   "version": "3.6.9"
  }
 },
 "nbformat": 4,
 "nbformat_minor": 2
}
